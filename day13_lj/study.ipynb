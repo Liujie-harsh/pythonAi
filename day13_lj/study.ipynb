{
 "cells": [
  {
   "cell_type": "code",
   "id": "initial_id",
   "metadata": {
    "collapsed": true
   },
   "source": [
    "1+1\n",
    "a=3\n",
    "b=2\n",
    "c=a**b\n",
    "import numpy as np\n",
    "import matplotlib.pyplot as plt\n",
    "x=np.arange(-10,10,0.1)\n",
    "y=x**b\n",
    "plt.plot(x,y)"
   ],
   "outputs": [],
   "execution_count": null
  }
 ],
 "metadata": {
  "kernelspec": {
   "display_name": "Python 3",
   "language": "python",
   "name": "python3"
  },
  "language_info": {
   "codemirror_mode": {
    "name": "ipython",
    "version": 2
   },
   "file_extension": ".py",
   "mimetype": "text/x-python",
   "name": "python",
   "nbconvert_exporter": "python",
   "pygments_lexer": "ipython2",
   "version": "2.7.6"
  }
 },
 "nbformat": 4,
 "nbformat_minor": 5
}
