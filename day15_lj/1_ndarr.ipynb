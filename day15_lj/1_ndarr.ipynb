{
 "cells": [
  {
   "cell_type": "markdown",
   "metadata": {},
   "source": [
    "# 创建一维数组"
   ]
  },
  {
   "cell_type": "code",
   "execution_count": null,
   "metadata": {},
   "outputs": [],
   "source": [
    "#用Npy创建一个一维数组\n",
    "import numpy as np\n",
    "arr = np.array([1, 2, 3, 4, 5])#ndarray类型,元素之间没有逗号,里面的整数不是无穷大\n",
    "print(arr)\n",
    "#打乱arr数组\n",
    "np.random.shuffle(arr)#shuffle()方法将数组中的元素随机打乱\n",
    "print(arr)\n",
    "b=np.sort(arr)\n",
    "print(b)\n",
    "print(type(arr))\n",
    "t1=np.arange(10)#arange()方法创建一个包含指定范围的整数序列的数组\n",
    "print(t1)\n",
    "print(type(t1))\n",
    "t2=np.arange(10,1,-1)#arange()方法创建一个包含指定范围的整数序列的数组,步长为-1\n",
    "\"\"\"#arange和range的区别\n",
    "#range()方法返回的是一个range对象,而arange()方法返回的是一个ndarray对象\n",
    "#range()方法只接受整数作为参数,而arange()方法可以接受浮点数作为参数\n",
    "#range()方法的步长只能是整数,而arange()方法的步长可以是浮点数\n",
    "#range()方法的速度比arange()方法快\n",
    "#range对象是一个可迭代对象,而ndarray对象是一个numpy数组对象\"\"\"\n",
    "print(t2)\n",
    "print(t2.dtype)#dtype属性可以查看数组中元素的数据类型\n",
    "#numpy创建数组的方式有\n",
    "#1.使用np.array()函数创建数组\n",
    "a1=np.array([[1,2,3,4,5],[2,3,4,5,6,]])\n",
    "print(a1)\n",
    "list_a=a1.tolist()\n",
    "print(list_a)\n",
    "print(type(list_a))\n",
    "#2.使用np.zeros()函数创建全0数组\n",
    "a2=np.zeros(6).reshape(2,3)\n",
    "print(a2)\n",
    "#3.使用np.ones()函数创建全1数组\n",
    "a3=np.ones(6)\n",
    "print(a3)\n",
    "#4.使用np.arange()函数创建等差数列\n",
    "a4=np.arange(0,10,2)#arange()方法创建一个包含指定范围的整数序列的数组,步长为2\n",
    "print(a4)\n",
    "#5.使用np.linspace()函数创建等间隔数组\n",
    "a5=np.linspace(0,10,5)#linspace()方法创建一个包含指定数量的等间隔元素的数组\n",
    "print(a5)\n",
    "#6.使用np.random.rand()函数创建随机数组\n",
    "a6=np.random.rand(2,3)#rand()方法创建一个指定形状的随机数组,数组中的元素是0到1之间的均匀分布的随机数\n",
    "print(a6)\n",
    "#7.使用np.random.randn()函数创建随机数组\n",
    "a7=np.random.randn(2,3)#randn()方法创建一个指定形状的随机数组,数组中的元素是标准正态分布的随机数\n",
    "print(a7)\n",
    "#8.使用np.random.randint()函数创建随机整数数组\n",
    "a8=np.random.randint(0,10,size=(2,3))#randint()方法创建一个指定形状的随机整数数组,数组中的元素是0到10之间的随机整数\n",
    "print(a8)\n",
    "#9.使用np.eye()函数创建单位矩阵\n",
    "\n",
    "#10.使用np.diag()函数创建对角矩阵\n",
    "#11.使用np.tile()函数创建重复数组\n",
    "#12.使用np.concatenate()函数连接数组\n",
    "#13.使用np.reshape()函数改变数组形状\n",
    "#14.使用np.transpose()函数转置数组\n",
    "\n",
    "#15.使用np.flatten()函数展平数组\n",
    "#16.使用np.split()函数分割数组"
   ]
  },
  {
   "cell_type": "markdown",
   "metadata": {},
   "source": [
    "# 创建二维数组"
   ]
  },
  {
   "cell_type": "code",
   "execution_count": null,
   "metadata": {},
   "outputs": [],
   "source": [
    "#创建一个二维数组\n",
    "import numpy as np\n",
    "arr = np.array([[1, 2, 3], [4, 5, 6]])\n",
    "print(arr)  # 输出 [[1 2 3] [4 5 6]]\n",
    "print(arr.shape)  # 输出 (2, 3)，shape属性返回一个元组，表示数组的维度\n",
    "print(type(arr))\n",
    "print(arr.ndim)\n",
    "print(type(arr.ndim))\n",
    "print(arr.dtype)\n",
    "print(type(arr.dtype))\n",
    "print(arr.size)\n",
    "print(type(arr.size))\n",
    "arr.shape = (3, 2)\n",
    "print(arr)  # 输出 [[1 2] [3 4] [5 6]]\n",
    "print(arr.shape)  # 输出 (3, 2)\n",
    "print(arr.ndim)  # 输出 2\n",
    "arr1=np.array([[1,2,3],[4,5,6],[7,8,9]])\n",
    "print(arr1)\n",
    "print(arr1.shape)\n",
    "print(arr1.ndim)\n",
    "print(arr1.dtype)\n",
    "print(arr1.size)\n",
    "t=np.arange(24)\n",
    "print(t)\n",
    "print(t.shape)\n",
    "print(t.ndim)\n",
    "print(t.dtype)\n",
    "print(t.size)\n",
    "t1=t.reshape(4,6)#reshape()方法可以改变数组的形状，但是要注意数组的元素个数要和新的形状匹配\n",
    "print(t1)\n",
    "print(t1.shape)\n",
    "print(t1.ndim)\n",
    "print(t1.dtype)\n",
    "print(t1.size)\n"
   ]
  },
  {
   "cell_type": "markdown",
   "metadata": {},
   "source": [
    "# 数组转list"
   ]
  },
  {
   "cell_type": "code",
   "execution_count": null,
   "metadata": {},
   "outputs": [],
   "source": [
    "a=np.arange(1,11,2)\n",
    "print(a)\n",
    "print(a.shape)\n",
    "print(a.ndim)\n",
    "print(a.dtype)\n",
    "print(a.size)\n",
    "list_a=a.tolist()\n",
    "print(list_a)\n",
    "print(type(list_a))\n",
    "list_count=list_a.count(3)#count()方法可以统计列表中某个元素出现的次数\n",
    "print(len(list_a))#len()方法可以统计列表中元素的个数\n",
    "# a1=a.reshape(2,3)\n",
    "# print(a1)\n",
    "# print(a1.shape)\n",
    "# print(a1.ndim)\n",
    "# print(a1.dtype)\n",
    "# print(a1.size)\n"
   ]
  },
  {
   "cell_type": "markdown",
   "metadata": {},
   "source": [
    "# NumPy的数据类型"
   ]
  },
  {
   "cell_type": "code",
   "execution_count": null,
   "metadata": {},
   "outputs": [],
   "source": [
    "import random\n",
    "#返回数组中每个元素的字节单位长度，dtype设置数据类型\n",
    "f=np.array([1,2,3,4,5],dtype=np.int16)#16位有符号整数\n",
    "print(f.itemsize)#1np.int8(一个字节),itemsize是每个元素的字节单位长度\n",
    "print(f.dtype)#int16,表示16位有符号整数\n",
    "f1=f.astype(np.int64)\n",
    "print(f1)\n",
    "print(f1.dtype)#int64,表示64位有符号整数\n",
    "print(f1.itemsize)#8,表示8个字节\n",
    "print(round(random.uniform(1,10),4))#round是四舍五入，2为保留俩位小数 （）为0，1随机生成浮点数\n",
    "arr=np.array([round(random.uniform(1,10),4) for i in range(10)])#注意[]()生成式，去掉多余括号\n",
    "print(arr)\n",
    "print(arr.dtype)\n",
    "print(arr.itemsize)\n"
   ]
  },
  {
   "cell_type": "markdown",
   "metadata": {},
   "source": [
    "# 数组的计算"
   ]
  },
  {
   "cell_type": "markdown",
   "metadata": {},
   "source": [
    "## 6.1数组和数的计算"
   ]
  },
  {
   "cell_type": "code",
   "execution_count": null,
   "metadata": {},
   "outputs": [],
   "source": [
    "from numpy import dtype\n",
    "\n",
    "\n",
    "t1=np.arange(24)\n",
    "t2=t1.reshape(6,4)\n",
    "print(t2)\n",
    "print(t2.shape)\n",
    "print(t1)\n",
    "print(t2+1)#每个元素都加1\n",
    "print(t2*2)#每个元素都乘以2\n",
    "print(t2**2)#每个元素都平方\n",
    "print(t2.mean())#求平均值\n",
    "print(t2.max())#求最大值\n",
    "print(t2.min())#求最小值\n",
    "print(t2.sum())#求和\n",
    "print(t2.std())#求标准差\n",
    "print(t2.var())#求方差\n",
    "print(t2.sum(axis=0))#axis=0表示列的和\n",
    "print(t2.sum(axis=1))#axis=1表示行的和\n",
    "print(t2.mean(axis=0))#axis=0表示列的平均值\n",
    "print(t2.mean(axis=1))#axis=1表示行的平均值\n",
    "t3=np.arange(24).reshape(6,4)\n",
    "print(t3)\n",
    "print(t3.shape)\n",
    "print(t3.dtype)\n",
    "print(t3.ndim)#ndim属性可以查看数组的维度\n",
    "t4=np.arange(6)\n",
    "print(t4)\n",
    "print(t4.shape)\n",
    "print(t4.dtype)\n",
    "print(t4.ndim)\n"
   ]
  },
  {
   "cell_type": "markdown",
   "metadata": {},
   "source": [
    "### 数组的广播"
   ]
  },
  {
   "cell_type": "code",
   "execution_count": null,
   "metadata": {},
   "outputs": [],
   "source": [
    "# 数组中的轴,按什么轴运算，什么轴消失\n",
    "import numpy as np\n",
    "a=np.arange(6).reshape(2,3)\n",
    "a1=np.sum(a,axis=0)\n",
    "print(a1.shape)\n",
    "\n"
   ]
  },
  {
   "cell_type": "markdown",
   "metadata": {},
   "source": [
    "### 6.2数组之间的操作"
   ]
  },
  {
   "cell_type": "code",
   "execution_count": null,
   "metadata": {},
   "outputs": [],
   "source": [
    "t1=np.arange(12)\n",
    "t1=t1.reshape(3,4)\n",
    "t2=np.array([[1,2,3,4],[5,6,7,8],[9,10,11,12]])\n",
    "print(t1)\n",
    "print(t2)\n",
    "print(t1+t2)\n"
   ]
  },
  {
   "cell_type": "markdown",
   "metadata": {},
   "source": [
    "### 6.4数组的索引和切片"
   ]
  },
  {
   "cell_type": "code",
   "execution_count": null,
   "metadata": {},
   "outputs": [],
   "source": [
    "import numpy as np\n",
    "t1=np.arange(24).reshape(4,6)\n",
    "print(t1)\n",
    "print(\"-\"*50)\n",
    "print(t1[2,3::2])\n",
    "print(\"-\"*50)\n",
    "#打印7和16\n",
    "print(t1[1:,2::2])\n",
    "print(\"-\"*50)\n",
    "#打印1,5,9,13\n",
    "print(t1[:,::2])\n",
    "print(\"-\"*50)\n",
    "#打印0,2,4,6\n",
    "print(t1[::2,::2])#俩个维度用,分割\n",
    "print(\"-\"*50)\n",
    "#打印0,4,8,12,16,20\n",
    "print(t1[::2,1::2])\n",
    "print(\"-\"*50)\n",
    "#打印1,3,5,7,9,11\n",
    "print(t1[1::2,::2])\n",
    "print(\"-\"*50)\n",
    "#打印2,3,6,7,10,11\n",
    "# 打印 t1 数组中从第 2 行开始，每隔一行选取，并且从第 2 列开始，每隔一列选取的元素\n",
    "print(t1[1::2,1::2])\n",
    "print(\"-\"*50)\n"
   ]
  },
  {
   "cell_type": "markdown",
   "metadata": {},
   "source": [
    "### 6.4.1数组中值的修改"
   ]
  },
  {
   "cell_type": "code",
   "execution_count": null,
   "metadata": {},
   "outputs": [],
   "source": [
    "import numpy as np\n",
    "t1=np.arange(24).reshape(4,6)\n",
    "print(t1)\n",
    "print(\"-\"*50)\n",
    "t1[::2]=100\n",
    "print(t1)\n",
    "print(\"-\"*50)\n",
    "t1[1::2]=200\n",
    "print(t1)\n",
    "t1[:]=0\n",
    "print(\"-\"*50)\n",
    "t1[1:3:,2:4:]=1\n",
    "print(t1)"
   ]
  },
  {
   "cell_type": "markdown",
   "metadata": {},
   "source": [
    "### 6.4.2值的增加"
   ]
  },
  {
   "cell_type": "code",
   "execution_count": null,
   "metadata": {},
   "outputs": [],
   "source": [
    "import numpy as np\n",
    "a=np.arange(12).reshape(3,4)\n",
    "print(a)\n",
    "print(\"-\"*50)\n",
    "a1=np.append(a,[[100,100,100,100]],axis=0)#np.append返回一个新数组，不会原地修改数组\n",
    "print(a1)\n",
    "print(a1.shape)\n",
    "print(\"-\"*50)\n",
    "a2=np.append(a,[[100],[100],[100]],axis=1)\n",
    "print(a2)\n",
    "print(a2.shape)\n",
    "print(\"-\"*50)\n",
    "a3=np.append(a,[100,23,11,7])#若不传轴值，默认追加到末尾并展开\n",
    "print(a3)\n",
    "print(\"-\"*50)\n",
    "#insert插入\n",
    "a4=np.insert(a,1,[11],axis=0)\n",
    "print(a4)\n",
    "print(type(a4))\n",
    "\n"
   ]
  },
  {
   "cell_type": "markdown",
   "metadata": {},
   "source": [
    "# NumPy的计算（数学函数）"
   ]
  },
  {
   "cell_type": "code",
   "execution_count": null,
   "metadata": {},
   "outputs": [],
   "source": [
    "import numpy as np\n",
    "score=np.array([[91,82],[87,75],[77,87]])\n",
    "print(score)\n",
    "print(score.shape)\n",
    "result=score.mean()#mean求均值\n",
    "print(result)\n",
    "print(\"-\"*50)\n",
    "result=score.max(axis=0)#max求最大值\n",
    "print(result)\n",
    "print(\"-\"*50)\n",
    "result=score.min()#min求最小值\n",
    "print(result)\n",
    "result=score.std()#std求标准差\n",
    "print(result)\n",
    "result=score.var()#var求方差\n",
    "print(result)\n",
    "#cumsum\n",
    "result=score.cumsum(axis=0)#cumsum用于求累加和\n",
    "print(result)\n",
    "print(\"-\"*50)\n",
    "\n"
   ]
  },
  {
   "cell_type": "markdown",
   "metadata": {},
   "source": [
    "## 7.1拼接与分割"
   ]
  },
  {
   "cell_type": "code",
   "execution_count": null,
   "metadata": {},
   "outputs": [],
   "source": [
    "import numpy as np\n",
    "# 创建两个示例数组\n",
    "arr1 = np.array([[1, 2], [3, 4]])\n",
    "arr2 = np.array([[5, 6], [7, 8]])\n",
    "\n",
    "# 使用 concatenate 函数按行拼接数组（axis=0）\n",
    "result_axis_0 = np.concatenate((arr1, arr2), axis=0)\n",
    "print(\"按行拼接的结果：\")\n",
    "print(result_axis_0)\n",
    "\n",
    "# 使用 concatenate 函数按列拼接数组（axis=1）\n",
    "result_axis_1 = np.concatenate((arr1, arr2), axis=1)\n",
    "print(\"按列拼接的结果：\")\n",
    "print(result_axis_1)\n",
    "\n",
    "# 创建两个示例数组\n",
    "arr1 = np.array([[1, 2], [3, 4]])\n",
    "arr2 = np.array([[5, 6], [7, 8]])\n",
    "arr3=np.array([[9,10],[11,12]])\n",
    "\n",
    "# 使用 stack 函数按不同轴堆叠数组\n",
    "\n",
    "# 按轴 0 堆叠\n",
    "result_stack_axis_0 = np.stack((arr1, arr2,arr3), axis=0)\n",
    "print(\"按轴 0 堆叠的结果：\")\n",
    "print(result_stack_axis_0.shape)\n",
    "\n",
    "# 按轴 1 堆叠\n",
    "result_stack_axis_1 = np.stack((arr1, arr2,arr3), axis=1)\n",
    "print(\"按轴 1 堆叠的结果：\")\n",
    "print(result_stack_axis_1)\n",
    "\n",
    "# 按轴 2 堆叠\n",
    "result_stack_axis_2 = np.stack((arr1, arr2,arr3), axis=2)\n",
    "print(\"按轴 2 堆叠的结果：\")\n",
    "print(result_stack_axis_2)\n",
    "\n"
   ]
  },
  {
   "cell_type": "markdown",
   "metadata": {},
   "source": [
    "## 数组切割\n"
   ]
  },
  {
   "cell_type": "code",
   "execution_count": 99,
   "metadata": {},
   "outputs": [
    {
     "name": "stdout",
     "output_type": "stream",
     "text": [
      "按空格分割结果: ['Hello', 'world,', 'this', 'is', 'a', 'test.']\n",
      "按逗号分割结果: ['apple', 'banana', 'orange']\n",
      "指定分割 2 次的结果: ['one', 'two', 'three-four']\n",
      "--------------------------------------------------\n",
      "一维数组按指定位置分割结果: [array([1, 2]), array([3, 4, 5]), array([6, 7, 8])]\n",
      "--------------------------------------------------\n",
      "二维数组按行分割结果: [array([[1, 2, 3],\n",
      "       [4, 5, 6]]), array([[ 7,  8,  9],\n",
      "       [10, 11, 12]])]\n",
      "--------------------------------------------------\n",
      "二维数组按列分割结果: [array([[ 1],\n",
      "       [ 4],\n",
      "       [ 7],\n",
      "       [10]]), array([[ 2],\n",
      "       [ 5],\n",
      "       [ 8],\n",
      "       [11]]), array([[ 3],\n",
      "       [ 6],\n",
      "       [ 9],\n",
      "       [12]])]\n",
      "--------------------------------------------------\n",
      "将数组分为三个大小相等的子数组：\n",
      "[array([[0, 1, 2]]), array([[3, 4, 5]]), array([[6, 7, 8]])]\n"
     ]
    }
   ],
   "source": [
    "import numpy as np\n",
    "# 以下是 Python 中 split 方法的案例\n",
    "\n",
    "# 案例 1：按空格分割字符串\n",
    "text1 = \"Hello world, this is a test.\"\n",
    "result1 = text1.split()\n",
    "print(\"按空格分割结果:\", result1)\n",
    "\n",
    "# 案例 2：按指定字符分割字符串\n",
    "text2 = \"apple,banana,orange\"\n",
    "result2 = text2.split(',')\n",
    "print(\"按逗号分割结果:\", result2)\n",
    "\n",
    "# 案例 3：指定分割次数\n",
    "text3 = \"one-two-three-four\"\n",
    "result3 = text3.split('-', 2)\n",
    "print(\"指定分割 2 次的结果:\", result3)\n",
    "print(\"-\"*50)\n",
    "\n",
    "# 创建一个一维数组\n",
    "arr1 = np.array([1, 2, 3, 4, 5, 6, 7, 8])\n",
    "# 使用 np.split 按指定位置分割一维数组\n",
    "result1 = np.split(arr1, [2, 5])\n",
    "print(\"一维数组按指定位置分割结果:\", result1)\n",
    "print(\"-\"*50)\n",
    "# 创建一个二维数组\n",
    "arr2 = np.array([[1, 2, 3], [4, 5, 6], [7, 8, 9], [10, 11, 12]])\n",
    "# 按行分割二维数组\n",
    "result2 = np.split(arr2, 2)\n",
    "print(\"二维数组按行分割结果:\", result2)\n",
    "print(\"-\"*50)\n",
    "# 按列分割二维数组\n",
    "result3 = np.hsplit(arr2, 3)\n",
    "print(\"二维数组按列分割结果:\", result3)\n",
    "print(\"-\"*50)\n",
    "arr = np.arange(9).reshape(3,3)\n",
    "print ('将数组分为三个大小相等的子数组：')\n",
    "b = np.split(arr,3)\n",
    "print (b)\n",
    "\n"
   ]
  },
  {
   "cell_type": "markdown",
   "metadata": {},
   "source": [
    "## nan 和 inf"
   ]
  },
  {
   "cell_type": "code",
   "execution_count": null,
   "metadata": {},
   "outputs": [],
   "source": [
    "import numpy as np\n",
    "\n",
    "# 示例：创建包含 NaN 和 Inf 的数组\n",
    "nan_example = np.array([1.0, np.nan, 3.0])\n",
    "inf_example = np.array([2.0, np.inf, -np.inf])\n",
    "\n",
    "print(\"包含 NaN 的数组:\", nan_example)\n",
    "print(\"包含 Inf 的数组:\", inf_example)\n",
    "\n",
    "# 检查 NaN 和 Inf 的方法\n",
    "print(\"检查 nan_example 中的 NaN:\", np.isnan(nan_example))\n",
    "print(\"检查 inf_example 中的 Inf:\", np.isinf(inf_example))\n"
   ]
  },
  {
   "cell_type": "markdown",
   "metadata": {},
   "source": [
    "## 轴滚动"
   ]
  },
  {
   "cell_type": "code",
   "execution_count": null,
   "metadata": {},
   "outputs": [],
   "source": [
    "import numpy as np\n",
    "\n",
    "# 创建一个 3D 数组\n",
    "arr = np.arange(24).reshape(2, 3, 4)\n",
    "print(\"原始数组形状:\", arr.shape)\n",
    "print(\"原始数组:\\n\", arr)\n",
    "\n",
    "# 使用 rollaxis 函数将轴 1 滚动到轴 0 的位置\n",
    "rolled_arr = np.rollaxis(arr, 1, 0)\n",
    "print(\"\\n滚动轴后的数组形状:\", rolled_arr.shape)\n",
    "print(\"滚动轴后的数组:\\n\", rolled_arr)\n"
   ]
  },
  {
   "cell_type": "markdown",
   "metadata": {},
   "source": []
  }
 ],
 "metadata": {
  "kernelspec": {
   "display_name": "Python 3",
   "language": "python",
   "name": "python3"
  },
  "language_info": {
   "codemirror_mode": {
    "name": "ipython",
    "version": 3
   },
   "file_extension": ".py",
   "mimetype": "text/x-python",
   "name": "python",
   "nbconvert_exporter": "python",
   "pygments_lexer": "ipython3",
   "version": "3.12.3"
  }
 },
 "nbformat": 4,
 "nbformat_minor": 2
}
