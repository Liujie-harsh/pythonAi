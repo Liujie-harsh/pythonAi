{
 "cells": [
  {
   "cell_type": "markdown",
   "metadata": {},
   "source": [
    "# 1.pandas的数据结构series"
   ]
  },
  {
   "cell_type": "code",
   "metadata": {},
   "source": [
    "import pandas as pd\n",
    "import numpy as np\n",
    "\n",
    "list1=pd.Series([1,2,3,4,5])\n",
    "print(list1)\n",
    "a=list1.index\n",
    "print(a)\n",
    "a1=list1.values\n",
    "print(a1)\n",
    "print(\"-\"*50)\n",
    "print(list1.head(3))\n",
    "print(type(list1))\n"
   ],
   "outputs": [],
   "execution_count": null
  },
  {
   "cell_type": "code",
   "metadata": {},
   "source": [
    "\n",
    "print(list1*2)\n",
    "print(list1.values>2)"
   ],
   "outputs": [],
   "execution_count": null
  },
  {
   "cell_type": "code",
   "metadata": {},
   "source": [
    "year_data = {2001: 17.8, 2002: 20.1, 2003: 16.5}\n",
    "a2=pd.Series(year_data)\n",
    "print(a2)\n",
    "print(a2.index)\n",
    "print(a2.values)\n",
    "a2.index.name='year'\n",
    "print(a2)\n"
   ],
   "outputs": [],
   "execution_count": null
  },
  {
   "cell_type": "markdown",
   "metadata": {},
   "source": [
    "## DataFrame"
   ]
  },
  {
   "cell_type": "code",
   "metadata": {},
   "source": [
    "t=pd.DataFrame(np.arange(12).reshape(3,4))\n",
    "print(t)\n",
    "arr=np.random.rand(3,4)\n",
    "print(arr)\n",
    "t1=pd.DataFrame(arr)\n",
    "print(t1)\n"
   ],
   "outputs": [],
   "execution_count": null
  },
  {
   "cell_type": "code",
   "metadata": {},
   "source": [
    "dict_data = {'A': 1,\n",
    " 'B': pd.Timestamp('20190926'),\n",
    " 'C': pd.Series(1,index=list(range(4)),dtype='float32'),\n",
    " 'D': np.array([3] *4,dtype='int32'),\n",
    " 'E': [\"Python\",\"Java\",\"C++\",\"C\"],\n",
    " 'F': 'wangdao',\n",
    " 'G':[1,2,3,4]}\n",
    "dict_data1=pd.DataFrame(dict_data)\n",
    "print(dict_data1)\n"
   ],
   "outputs": [],
   "execution_count": null
  },
  {
   "cell_type": "code",
   "metadata": {},
   "source": [
    "print(dict_data1['B'])\n",
    "print(dict_data1.B)\n",
    "print(type(dict_data1))\n"
   ],
   "outputs": [],
   "execution_count": null
  },
  {
   "cell_type": "markdown",
   "metadata": {},
   "source": [
    "## 切片索引"
   ]
  },
  {
   "cell_type": "code",
   "metadata": {},
   "source": [
    "data = [10, 20, 30, 40, 50]\n",
    "index = ['a', 'b', 'c', 'd', 'e']\n",
    "s = pd.Series(data, index=index)\n",
    "\n",
    "# 切片索引示例：使用标签索引\n",
    "print(\"使用标签索引进行切片：\")\n",
    "print(s['b':'d'])\n",
    "\n",
    "# 切片索引示例：使用位置索引\n",
    "print(\"\\n使用位置索引进行切片：\")\n",
    "print(s[1:4])\n"
   ],
   "outputs": [],
   "execution_count": null
  },
  {
   "cell_type": "code",
   "metadata": {},
   "source": [
    "df=pd.DataFrame(np.random.randn(5,4)-1)\n",
    "print(df)\n"
   ],
   "outputs": [],
   "execution_count": null
  },
  {
   "cell_type": "code",
   "metadata": {},
   "source": [
    "print(df.apply(lambda x:x.max()))#apply是应用函数，默认是列\n",
    "print('-'*50)\n",
    "print(df.apply(lambda x:x.max(),axis=1))#axis=1是行 \n",
    "print('-'*50)\n",
    "print(df.apply(lambda x:x.min()))\n",
    "print('-'*50)\n",
    "print(df.apply(lambda x:x.min(),axis=1))\n"
   ],
   "outputs": [],
   "execution_count": null
  },
  {
   "cell_type": "code",
   "metadata": {},
   "source": [
    "f2=lambda x:'%.2f'%x\n",
    "print(df.map(f2))#map()函数只对Series有效"
   ],
   "outputs": [],
   "execution_count": null
  },
  {
   "cell_type": "code",
   "metadata": {},
   "source": [],
   "outputs": [],
   "execution_count": null
  }
 ],
 "metadata": {
  "kernelspec": {
   "display_name": "Python 3",
   "language": "python",
   "name": "python3"
  },
  "language_info": {
   "codemirror_mode": {
    "name": "ipython",
    "version": 3
   },
   "file_extension": ".py",
   "mimetype": "text/x-python",
   "name": "python",
   "nbconvert_exporter": "python",
   "pygments_lexer": "ipython3",
   "version": "3.12.3"
  }
 },
 "nbformat": 4,
 "nbformat_minor": 2
}
