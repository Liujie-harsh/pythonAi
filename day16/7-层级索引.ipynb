{
 "cells": [
  {
   "cell_type": "code",
   "id": "initial_id",
   "metadata": {
    "collapsed": true,
    "ExecuteTime": {
     "end_time": "2025-06-13T01:51:32.801773Z",
     "start_time": "2025-06-13T01:51:32.324433Z"
    }
   },
   "source": [
    "import pandas as pd\n",
    "import numpy as np\n",
    "\n",
    "ser_obj = pd.Series(np.random.randn(12),index=[\n",
    "                ['a', 'a', 'a', 'b', 'b', 'b', 'c', 'c', 'c', 'd', 'd', 'd'],\n",
    "                [0, 1, 2, 0, 1, 2, 0, 1, 2, 0, 1, 2]\n",
    "            ])\n",
    "print(ser_obj)"
   ],
   "outputs": [
    {
     "name": "stdout",
     "output_type": "stream",
     "text": [
      "a  0   -0.237372\n",
      "   1    1.858028\n",
      "   2    0.005211\n",
      "b  0    1.370413\n",
      "   1   -0.092090\n",
      "   2    0.498949\n",
      "c  0   -0.207207\n",
      "   1    0.491316\n",
      "   2   -0.133822\n",
      "d  0    0.171012\n",
      "   1   -0.944602\n",
      "   2   -0.972132\n",
      "dtype: float64\n"
     ]
    }
   ],
   "execution_count": 1
  },
  {
   "metadata": {
    "ExecuteTime": {
     "end_time": "2025-06-13T01:52:19.468426Z",
     "start_time": "2025-06-13T01:52:19.463926Z"
    }
   },
   "cell_type": "code",
   "source": [
    "print(type(ser_obj.index))\n",
    "print(ser_obj.index)"
   ],
   "id": "76e9790b9c04312",
   "outputs": [
    {
     "name": "stdout",
     "output_type": "stream",
     "text": [
      "<class 'pandas.core.indexes.multi.MultiIndex'>\n",
      "MultiIndex([('a', 0),\n",
      "            ('a', 1),\n",
      "            ('a', 2),\n",
      "            ('b', 0),\n",
      "            ('b', 1),\n",
      "            ('b', 2),\n",
      "            ('c', 0),\n",
      "            ('c', 1),\n",
      "            ('c', 2),\n",
      "            ('d', 0),\n",
      "            ('d', 1),\n",
      "            ('d', 2)],\n",
      "           )\n"
     ]
    }
   ],
   "execution_count": 2
  },
  {
   "metadata": {
    "ExecuteTime": {
     "end_time": "2025-06-13T01:53:31.909137Z",
     "start_time": "2025-06-13T01:53:31.903669Z"
    }
   },
   "cell_type": "code",
   "source": "ser_obj['c']",
   "id": "ff958b08b817c334",
   "outputs": [
    {
     "data": {
      "text/plain": [
       "0   -0.207207\n",
       "1    0.491316\n",
       "2   -0.133822\n",
       "dtype: float64"
      ]
     },
     "execution_count": 3,
     "metadata": {},
     "output_type": "execute_result"
    }
   ],
   "execution_count": 3
  },
  {
   "metadata": {
    "ExecuteTime": {
     "end_time": "2025-06-13T01:56:01.371674Z",
     "start_time": "2025-06-13T01:56:01.368583Z"
    }
   },
   "cell_type": "code",
   "source": "ser_obj['b',2] #取某个元素",
   "id": "4ed28ff0ede219a2",
   "outputs": [
    {
     "data": {
      "text/plain": [
       "0.49894861408441493"
      ]
     },
     "execution_count": 7,
     "metadata": {},
     "output_type": "execute_result"
    }
   ],
   "execution_count": 7
  },
  {
   "metadata": {
    "ExecuteTime": {
     "end_time": "2025-06-13T01:56:03.651418Z",
     "start_time": "2025-06-13T01:56:03.647845Z"
    }
   },
   "cell_type": "code",
   "source": "ser_obj.swaplevel()",
   "id": "f7ff3629197f4630",
   "outputs": [
    {
     "data": {
      "text/plain": [
       "0  a   -0.237372\n",
       "1  a    1.858028\n",
       "2  a    0.005211\n",
       "0  b    1.370413\n",
       "1  b   -0.092090\n",
       "2  b    0.498949\n",
       "0  c   -0.207207\n",
       "1  c    0.491316\n",
       "2  c   -0.133822\n",
       "0  d    0.171012\n",
       "1  d   -0.944602\n",
       "2  d   -0.972132\n",
       "dtype: float64"
      ]
     },
     "execution_count": 8,
     "metadata": {},
     "output_type": "execute_result"
    }
   ],
   "execution_count": 8
  },
  {
   "metadata": {
    "ExecuteTime": {
     "end_time": "2025-06-13T01:58:27.405766Z",
     "start_time": "2025-06-13T01:58:27.402105Z"
    }
   },
   "cell_type": "code",
   "source": "ser_obj",
   "id": "83c294f2aeb955d8",
   "outputs": [
    {
     "data": {
      "text/plain": [
       "a  0   -0.237372\n",
       "   1    1.858028\n",
       "   2    0.005211\n",
       "b  0    1.370413\n",
       "   1   -0.092090\n",
       "   2    0.498949\n",
       "c  0   -0.207207\n",
       "   1    0.491316\n",
       "   2   -0.133822\n",
       "d  0    0.171012\n",
       "   1   -0.944602\n",
       "   2   -0.972132\n",
       "dtype: float64"
      ]
     },
     "execution_count": 10,
     "metadata": {},
     "output_type": "execute_result"
    }
   ],
   "execution_count": 10
  },
  {
   "metadata": {
    "ExecuteTime": {
     "end_time": "2025-06-13T01:58:43.471834Z",
     "start_time": "2025-06-13T01:58:43.467127Z"
    }
   },
   "cell_type": "code",
   "source": "ser_obj.unstack(1) #拆开层级索引，最外层索引是0",
   "id": "7c299bd9796eb9e7",
   "outputs": [
    {
     "data": {
      "text/plain": [
       "          0         1         2\n",
       "a -0.237372  1.858028  0.005211\n",
       "b  1.370413 -0.092090  0.498949\n",
       "c -0.207207  0.491316 -0.133822\n",
       "d  0.171012 -0.944602 -0.972132"
      ],
      "text/html": [
       "<div>\n",
       "<style scoped>\n",
       "    .dataframe tbody tr th:only-of-type {\n",
       "        vertical-align: middle;\n",
       "    }\n",
       "\n",
       "    .dataframe tbody tr th {\n",
       "        vertical-align: top;\n",
       "    }\n",
       "\n",
       "    .dataframe thead th {\n",
       "        text-align: right;\n",
       "    }\n",
       "</style>\n",
       "<table border=\"1\" class=\"dataframe\">\n",
       "  <thead>\n",
       "    <tr style=\"text-align: right;\">\n",
       "      <th></th>\n",
       "      <th>0</th>\n",
       "      <th>1</th>\n",
       "      <th>2</th>\n",
       "    </tr>\n",
       "  </thead>\n",
       "  <tbody>\n",
       "    <tr>\n",
       "      <th>a</th>\n",
       "      <td>-0.237372</td>\n",
       "      <td>1.858028</td>\n",
       "      <td>0.005211</td>\n",
       "    </tr>\n",
       "    <tr>\n",
       "      <th>b</th>\n",
       "      <td>1.370413</td>\n",
       "      <td>-0.092090</td>\n",
       "      <td>0.498949</td>\n",
       "    </tr>\n",
       "    <tr>\n",
       "      <th>c</th>\n",
       "      <td>-0.207207</td>\n",
       "      <td>0.491316</td>\n",
       "      <td>-0.133822</td>\n",
       "    </tr>\n",
       "    <tr>\n",
       "      <th>d</th>\n",
       "      <td>0.171012</td>\n",
       "      <td>-0.944602</td>\n",
       "      <td>-0.972132</td>\n",
       "    </tr>\n",
       "  </tbody>\n",
       "</table>\n",
       "</div>"
      ]
     },
     "execution_count": 11,
     "metadata": {},
     "output_type": "execute_result"
    }
   ],
   "execution_count": 11
  }
 ],
 "metadata": {
  "kernelspec": {
   "display_name": "Python 3",
   "language": "python",
   "name": "python3"
  },
  "language_info": {
   "codemirror_mode": {
    "name": "ipython",
    "version": 2
   },
   "file_extension": ".py",
   "mimetype": "text/x-python",
   "name": "python",
   "nbconvert_exporter": "python",
   "pygments_lexer": "ipython2",
   "version": "2.7.6"
  }
 },
 "nbformat": 4,
 "nbformat_minor": 5
}
