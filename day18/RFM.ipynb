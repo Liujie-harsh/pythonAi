{
 "cells": [
  {
   "cell_type": "code",
   "id": "initial_id",
   "metadata": {
    "collapsed": true,
    "ExecuteTime": {
     "end_time": "2025-06-16T13:30:43.796725Z",
     "start_time": "2025-06-16T13:30:42.642674Z"
    }
   },
   "source": [
    "# 导入必要的库\n",
    "import pandas as pd  # 用于数据处理和分析\n",
    "from datetime import datetime  # 用于处理日期时间\n",
    "import matplotlib.pyplot as plt  # 用于数据可视化\n",
    "from datetime import datetime  # datetime重复导入，可以删除一个\n"
   ],
   "outputs": [],
   "execution_count": 1
  },
  {
   "metadata": {
    "ExecuteTime": {
     "end_time": "2025-06-16T13:38:15.569767Z",
     "start_time": "2025-06-16T13:38:06.508073Z"
    }
   },
   "cell_type": "code",
   "source": [
    "# 读取用户行为数据集，将所有列都以字符串类型读取\n",
    "data_user = pd.read_csv('tianchi_mobile_recommend_train_user.csv',dtype=str)\n",
    "print(data_user.shape)  # 打印数据集的形状（行数和列数）\n",
    "data_user.info()  # 显示数据集的基本信息，包括列名、数据类型和内存使用情况"
   ],
   "id": "ef5af4b5a590046b",
   "outputs": [
    {
     "name": "stdout",
     "output_type": "stream",
     "text": [
      "(12256906, 6)\n",
      "<class 'pandas.core.frame.DataFrame'>\n",
      "RangeIndex: 12256906 entries, 0 to 12256905\n",
      "Data columns (total 6 columns):\n",
      " #   Column         Dtype \n",
      "---  ------         ----- \n",
      " 0   user_id        object\n",
      " 1   item_id        object\n",
      " 2   behavior_type  object\n",
      " 3   user_geohash   object\n",
      " 4   item_category  object\n",
      " 5   time           object\n",
      "dtypes: object(6)\n",
      "memory usage: 561.1+ MB\n"
     ]
    }
   ],
   "execution_count": 7
  },
  {
   "metadata": {
    "ExecuteTime": {
     "end_time": "2025-06-16T13:38:24.050518Z",
     "start_time": "2025-06-16T13:38:15.570766Z"
    }
   },
   "cell_type": "code",
   "source": [
    "# 数据预处理：时间特征提取和转换\n",
    "# 从time列中分离出日期和小时\n",
    "data_user['date'] = data_user['time'].str[0:10]  # 提取日期部分（前10个字符）\n",
    "data_user['hour'] = data_user['time'].str[11:]   # 提取小时部分（第11个字符之后）\n",
    "\n",
    "# 将字符串类型的时间数据转换为合适的数据类型\n",
    "data_user['date'] = pd.to_datetime(data_user['date'])  # 转换为datetime类型\n",
    "data_user['time']= pd.to_datetime(data_user['time'])   # 转换为datetime类型\n",
    "data_user['hour'] = data_user['hour'].astype(int)      # 转换为整数类型"
   ],
   "id": "af036cefa051b6e2",
   "outputs": [],
   "execution_count": 8
  },
  {
   "metadata": {
    "ExecuteTime": {
     "end_time": "2025-06-16T13:41:39.986650Z",
     "start_time": "2025-06-16T13:41:39.972642Z"
    }
   },
   "cell_type": "code",
   "source": "data_user.info()",
   "id": "be7f72cc7df9f923",
   "outputs": [
    {
     "name": "stdout",
     "output_type": "stream",
     "text": [
      "<class 'pandas.core.frame.DataFrame'>\n",
      "RangeIndex: 12256906 entries, 0 to 12256905\n",
      "Data columns (total 8 columns):\n",
      " #   Column         Dtype         \n",
      "---  ------         -----         \n",
      " 0   user_id        object        \n",
      " 1   item_id        object        \n",
      " 2   behavior_type  object        \n",
      " 3   user_geohash   object        \n",
      " 4   item_category  object        \n",
      " 5   time           datetime64[ns]\n",
      " 6   date           datetime64[ns]\n",
      " 7   hour           int64         \n",
      "dtypes: datetime64[ns](2), int64(1), object(5)\n",
      "memory usage: 748.1+ MB\n"
     ]
    }
   ],
   "execution_count": 10
  },
  {
   "metadata": {
    "ExecuteTime": {
     "end_time": "2025-06-16T13:42:34.633924Z",
     "start_time": "2025-06-16T13:42:32.050961Z"
    }
   },
   "cell_type": "code",
   "source": [
    "# 计算每个用户的最近购买时间（Recency）\n",
    "# behavior_type为4表示购买行为\n",
    "# 对每个用户，找出其最后一次购买的日期，然后用2014-12-18减去这个日期，得到距离最近购买的天数\n",
    "recent_buy_time=data_user[data_user['behavior_type'] == '4'].groupby ('user_id')['date'].apply(lambda x:datetime(2014,12,18)- x.sort_values().iloc[-1])"
   ],
   "id": "bcff6e2b67df89fa",
   "outputs": [],
   "execution_count": 11
  },
  {
   "metadata": {
    "ExecuteTime": {
     "end_time": "2025-06-16T13:42:44.240976Z",
     "start_time": "2025-06-16T13:42:44.231913Z"
    }
   },
   "cell_type": "code",
   "source": "recent_buy_time",
   "id": "543430b7f94fca95",
   "outputs": [
    {
     "data": {
      "text/plain": [
       "user_id\n",
       "100001878    0 days\n",
       "100011562    2 days\n",
       "100012968    0 days\n",
       "100014060    0 days\n",
       "100024529    2 days\n",
       "              ...  \n",
       "99960313     5 days\n",
       "9996155     11 days\n",
       "99963140     3 days\n",
       "99968428     4 days\n",
       "99989881     3 days\n",
       "Name: date, Length: 8886, dtype: timedelta64[ns]"
      ]
     },
     "execution_count": 12,
     "metadata": {},
     "output_type": "execute_result"
    }
   ],
   "execution_count": 12
  },
  {
   "metadata": {
    "ExecuteTime": {
     "end_time": "2025-06-16T13:43:30.419569Z",
     "start_time": "2025-06-16T13:43:30.393651Z"
    }
   },
   "cell_type": "code",
   "source": [
    "# 处理最近购买时间数据\n",
    "recent_buy_time=recent_buy_time.reset_index().rename(columns={'date':'recent'})  # 重置索引并重命名列\n",
    "recent_buy_time['recent']=recent_buy_time.recent.apply(lambda x: x.days)  # 将时间间隔转换为天数\n",
    "recent_buy_time.describe()  # 查看最近购买时间的统计描述，包括均值、标准差、分位数等\n"
   ],
   "id": "8d04f1c8b779fe7",
   "outputs": [
    {
     "data": {
      "text/plain": [
       "            recent\n",
       "count  8886.000000\n",
       "mean      5.811839\n",
       "std       6.678478\n",
       "min       0.000000\n",
       "25%       1.000000\n",
       "50%       4.000000\n",
       "75%       7.000000\n",
       "max      30.000000"
      ],
      "text/html": [
       "<div>\n",
       "<style scoped>\n",
       "    .dataframe tbody tr th:only-of-type {\n",
       "        vertical-align: middle;\n",
       "    }\n",
       "\n",
       "    .dataframe tbody tr th {\n",
       "        vertical-align: top;\n",
       "    }\n",
       "\n",
       "    .dataframe thead th {\n",
       "        text-align: right;\n",
       "    }\n",
       "</style>\n",
       "<table border=\"1\" class=\"dataframe\">\n",
       "  <thead>\n",
       "    <tr style=\"text-align: right;\">\n",
       "      <th></th>\n",
       "      <th>recent</th>\n",
       "    </tr>\n",
       "  </thead>\n",
       "  <tbody>\n",
       "    <tr>\n",
       "      <th>count</th>\n",
       "      <td>8886.000000</td>\n",
       "    </tr>\n",
       "    <tr>\n",
       "      <th>mean</th>\n",
       "      <td>5.811839</td>\n",
       "    </tr>\n",
       "    <tr>\n",
       "      <th>std</th>\n",
       "      <td>6.678478</td>\n",
       "    </tr>\n",
       "    <tr>\n",
       "      <th>min</th>\n",
       "      <td>0.000000</td>\n",
       "    </tr>\n",
       "    <tr>\n",
       "      <th>25%</th>\n",
       "      <td>1.000000</td>\n",
       "    </tr>\n",
       "    <tr>\n",
       "      <th>50%</th>\n",
       "      <td>4.000000</td>\n",
       "    </tr>\n",
       "    <tr>\n",
       "      <th>75%</th>\n",
       "      <td>7.000000</td>\n",
       "    </tr>\n",
       "    <tr>\n",
       "      <th>max</th>\n",
       "      <td>30.000000</td>\n",
       "    </tr>\n",
       "  </tbody>\n",
       "</table>\n",
       "</div>"
      ]
     },
     "execution_count": 13,
     "metadata": {},
     "output_type": "execute_result"
    }
   ],
   "execution_count": 13
  },
  {
   "metadata": {
    "ExecuteTime": {
     "end_time": "2025-06-16T13:46:50.231981Z",
     "start_time": "2025-06-16T13:46:49.638944Z"
    }
   },
   "cell_type": "code",
   "source": [
    "# 计算购买频率（Frequency）\n",
    "# 使用nunique()统计每个用户在不同日期的购买次数\n",
    "# count和nunique的区别：count统计总购买次数，nunique统计不同日期的购买次数\n",
    "buy_freq = data_user[data_user ['behavior_type'] =='4'].groupby('user_id').date.nunique()\n",
    "\n",
    "buy_freq  # 显示每个用户的购买频率"
   ],
   "id": "1bc5b54e22d88975",
   "outputs": [
    {
     "data": {
      "text/plain": [
       "user_id\n",
       "100001878    15\n",
       "100011562     3\n",
       "100012968    11\n",
       "100014060    12\n",
       "100024529     9\n",
       "             ..\n",
       "99960313      5\n",
       "9996155       3\n",
       "99963140      8\n",
       "99968428      9\n",
       "99989881     13\n",
       "Name: date, Length: 8886, dtype: int64"
      ]
     },
     "execution_count": 15,
     "metadata": {},
     "output_type": "execute_result"
    }
   ],
   "execution_count": 15
  },
  {
   "metadata": {
    "ExecuteTime": {
     "end_time": "2025-06-16T13:47:48.682416Z",
     "start_time": "2025-06-16T13:47:48.656583Z"
    }
   },
   "cell_type": "code",
   "source": [
    "# RFM分析：将用户按照最近购买时间和购买频率进行分类\n",
    "buy_freq=buy_freq.reset_index().rename(columns={'date':'freq'})  # 重置索引并重命名列\n",
    "rfm= pd.merge (recent_buy_time, buy_freq,left_on ='user_id' ,right_on ='user_id')  # 合并最近购买时间和购买频率数据\n",
    "\n",
    "# 使用分位数将用户分为两类\n",
    "rfm['recent_value'] = pd.qcut(rfm.recent,2,labels=['2','1'])  # 最近购买时间分类：1表示较旧，2表示较新\n",
    "rfm['freq_value'] = pd.qcut(rfm.freq,2,labels=['1','2'])     # 购买频率分类：1表示较低，2表示较高\n",
    "\n",
    "# 组合R和F值形成最终的客户分类\n",
    "rfm['rfm'] = rfm['recent_value'].str.cat(rfm['freq_value'])  # 将R值和F值连接成两位数字\n",
    "rfm  # 显示完整的RFM分析结果\n"
   ],
   "id": "258986e9bbbdd5ba",
   "outputs": [
    {
     "data": {
      "text/plain": [
       "        user_id  recent  index  freq recent_value freq_value rfm\n",
       "0     100001878       0      0    15            2          2  22\n",
       "1     100011562       2      1     3            2          1  21\n",
       "2     100012968       0      2    11            2          2  22\n",
       "3     100014060       0      3    12            2          2  22\n",
       "4     100024529       2      4     9            2          2  22\n",
       "...         ...     ...    ...   ...          ...        ...  ..\n",
       "8881   99960313       5   8881     5            1          1  11\n",
       "8882    9996155      11   8882     3            1          1  11\n",
       "8883   99963140       3   8883     8            2          2  22\n",
       "8884   99968428       4   8884     9            2          2  22\n",
       "8885   99989881       3   8885    13            2          2  22\n",
       "\n",
       "[8886 rows x 7 columns]"
      ],
      "text/html": [
       "<div>\n",
       "<style scoped>\n",
       "    .dataframe tbody tr th:only-of-type {\n",
       "        vertical-align: middle;\n",
       "    }\n",
       "\n",
       "    .dataframe tbody tr th {\n",
       "        vertical-align: top;\n",
       "    }\n",
       "\n",
       "    .dataframe thead th {\n",
       "        text-align: right;\n",
       "    }\n",
       "</style>\n",
       "<table border=\"1\" class=\"dataframe\">\n",
       "  <thead>\n",
       "    <tr style=\"text-align: right;\">\n",
       "      <th></th>\n",
       "      <th>user_id</th>\n",
       "      <th>recent</th>\n",
       "      <th>index</th>\n",
       "      <th>freq</th>\n",
       "      <th>recent_value</th>\n",
       "      <th>freq_value</th>\n",
       "      <th>rfm</th>\n",
       "    </tr>\n",
       "  </thead>\n",
       "  <tbody>\n",
       "    <tr>\n",
       "      <th>0</th>\n",
       "      <td>100001878</td>\n",
       "      <td>0</td>\n",
       "      <td>0</td>\n",
       "      <td>15</td>\n",
       "      <td>2</td>\n",
       "      <td>2</td>\n",
       "      <td>22</td>\n",
       "    </tr>\n",
       "    <tr>\n",
       "      <th>1</th>\n",
       "      <td>100011562</td>\n",
       "      <td>2</td>\n",
       "      <td>1</td>\n",
       "      <td>3</td>\n",
       "      <td>2</td>\n",
       "      <td>1</td>\n",
       "      <td>21</td>\n",
       "    </tr>\n",
       "    <tr>\n",
       "      <th>2</th>\n",
       "      <td>100012968</td>\n",
       "      <td>0</td>\n",
       "      <td>2</td>\n",
       "      <td>11</td>\n",
       "      <td>2</td>\n",
       "      <td>2</td>\n",
       "      <td>22</td>\n",
       "    </tr>\n",
       "    <tr>\n",
       "      <th>3</th>\n",
       "      <td>100014060</td>\n",
       "      <td>0</td>\n",
       "      <td>3</td>\n",
       "      <td>12</td>\n",
       "      <td>2</td>\n",
       "      <td>2</td>\n",
       "      <td>22</td>\n",
       "    </tr>\n",
       "    <tr>\n",
       "      <th>4</th>\n",
       "      <td>100024529</td>\n",
       "      <td>2</td>\n",
       "      <td>4</td>\n",
       "      <td>9</td>\n",
       "      <td>2</td>\n",
       "      <td>2</td>\n",
       "      <td>22</td>\n",
       "    </tr>\n",
       "    <tr>\n",
       "      <th>...</th>\n",
       "      <td>...</td>\n",
       "      <td>...</td>\n",
       "      <td>...</td>\n",
       "      <td>...</td>\n",
       "      <td>...</td>\n",
       "      <td>...</td>\n",
       "      <td>...</td>\n",
       "    </tr>\n",
       "    <tr>\n",
       "      <th>8881</th>\n",
       "      <td>99960313</td>\n",
       "      <td>5</td>\n",
       "      <td>8881</td>\n",
       "      <td>5</td>\n",
       "      <td>1</td>\n",
       "      <td>1</td>\n",
       "      <td>11</td>\n",
       "    </tr>\n",
       "    <tr>\n",
       "      <th>8882</th>\n",
       "      <td>9996155</td>\n",
       "      <td>11</td>\n",
       "      <td>8882</td>\n",
       "      <td>3</td>\n",
       "      <td>1</td>\n",
       "      <td>1</td>\n",
       "      <td>11</td>\n",
       "    </tr>\n",
       "    <tr>\n",
       "      <th>8883</th>\n",
       "      <td>99963140</td>\n",
       "      <td>3</td>\n",
       "      <td>8883</td>\n",
       "      <td>8</td>\n",
       "      <td>2</td>\n",
       "      <td>2</td>\n",
       "      <td>22</td>\n",
       "    </tr>\n",
       "    <tr>\n",
       "      <th>8884</th>\n",
       "      <td>99968428</td>\n",
       "      <td>4</td>\n",
       "      <td>8884</td>\n",
       "      <td>9</td>\n",
       "      <td>2</td>\n",
       "      <td>2</td>\n",
       "      <td>22</td>\n",
       "    </tr>\n",
       "    <tr>\n",
       "      <th>8885</th>\n",
       "      <td>99989881</td>\n",
       "      <td>3</td>\n",
       "      <td>8885</td>\n",
       "      <td>13</td>\n",
       "      <td>2</td>\n",
       "      <td>2</td>\n",
       "      <td>22</td>\n",
       "    </tr>\n",
       "  </tbody>\n",
       "</table>\n",
       "<p>8886 rows × 7 columns</p>\n",
       "</div>"
      ]
     },
     "execution_count": 17,
     "metadata": {},
     "output_type": "execute_result"
    }
   ],
   "execution_count": 17
  }
 ],
 "metadata": {
  "kernelspec": {
   "display_name": "Python 3",
   "language": "python",
   "name": "python3"
  },
  "language_info": {
   "codemirror_mode": {
    "name": "ipython",
    "version": 2
   },
   "file_extension": ".py",
   "mimetype": "text/x-python",
   "name": "python",
   "nbconvert_exporter": "python",
   "pygments_lexer": "ipython2",
   "version": "2.7.6"
  }
 },
 "nbformat": 4,
 "nbformat_minor": 5
}
