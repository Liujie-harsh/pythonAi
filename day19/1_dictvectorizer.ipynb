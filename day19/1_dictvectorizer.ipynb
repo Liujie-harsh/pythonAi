{
 "cells": [
  {
   "cell_type": "code",
   "execution_count": 3,
   "metadata": {},
   "outputs": [
    {
     "name": "stdout",
     "output_type": "stream",
     "text": [
      "特征名称： ['city=Beijing' 'city=Shanghai' 'city=Shenzhen' 'humidity' 'temperature'\n",
      " 'weather=cloudy' 'weather=rainy' 'weather=sunny' 'wind']\n",
      "转换后的数据：\n",
      " [[ 1.  0.  0. 30. 21.  0.  0.  1.  3.]\n",
      " [ 0.  1.  0. 40. 23.  1.  0.  0.  2.]\n",
      " [ 0.  0.  1. 50. 25.  0.  1.  0.  4.]]\n",
      "--------------------------------\n",
      "测试数据转换结果：\n",
      " [[ 0.  0.  0. 60. 27.  0.  0.  1.  1.]\n",
      " [ 1.  0.  0. 35. 20.  1.  0.  0.  2.]]\n"
     ]
    }
   ],
   "source": [
    "from sklearn.feature_extraction import DictVectorizer\n",
    "\n",
    "# 构造包含5个特征的数据，其中2个特征为非数值类型\n",
    "data = [\n",
    "    {'city': 'Beijing', 'temperature': 21, 'weather': 'sunny', 'humidity': 30, 'wind': 3},\n",
    "    {'city': 'Shanghai', 'temperature': 23, 'weather': 'cloudy', 'humidity': 40, 'wind': 2},\n",
    "    {'city': 'Shenzhen', 'temperature': 25, 'weather': 'rainy', 'humidity': 50, 'wind': 4}\n",
    "]\n",
    "\n",
    "# 创建DictVectorizer对象\n",
    "vec = DictVectorizer(sparse=False)\n",
    "\n",
    "# 拟合并转换数据\n",
    "X = vec.fit_transform(data)#fit_transform 用于训练数据，将其拟合并转换为新的形式；transform用于测试数据或新数据，将其转换为与训练数据相同的形式，以便使用训练好的模型进行预测。\n",
    "# 创建新的测试数据\n",
    "test_data = [\n",
    "    {'city': 'Guangzhou', 'temperature': 27, 'weather': 'sunny', 'humidity': 60, 'wind': 1},\n",
    "    {'city': 'Beijing', 'temperature': 20, 'weather': 'cloudy', 'humidity': 35, 'wind': 2}\n",
    "]\n",
    "\n",
    "# 使用训练好的vec对象转换测试数据\n",
    "X_test = vec.transform(test_data)\n",
    "#进行数据预处理后的训练数据用transform转测试数据\n",
    "\n",
    "\n",
    "\n",
    "print(\"特征名称：\", vec.get_feature_names_out())\n",
    "print(\"转换后的数据：\\n\", X)\n",
    "print('--------------------------------')\n",
    "print(\"测试数据转换结果：\\n\", X_test)\n",
    "\n"
   ]
  }
 ],
 "metadata": {
  "kernelspec": {
   "display_name": "Python 3",
   "language": "python",
   "name": "python3"
  },
  "language_info": {
   "codemirror_mode": {
    "name": "ipython",
    "version": 3
   },
   "file_extension": ".py",
   "mimetype": "text/x-python",
   "name": "python",
   "nbconvert_exporter": "python",
   "pygments_lexer": "ipython3",
   "version": "3.12.3"
  }
 },
 "nbformat": 4,
 "nbformat_minor": 2
}
