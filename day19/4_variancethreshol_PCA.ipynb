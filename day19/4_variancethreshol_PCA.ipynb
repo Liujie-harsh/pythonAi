{
 "cells": [
  {
   "cell_type": "code",
   "execution_count": 1,
   "metadata": {},
   "outputs": [
    {
     "name": "stdout",
     "output_type": "stream",
     "text": [
      "原始数据：\n",
      " [[0 2 0 3]\n",
      " [0 1 4 3]\n",
      " [0 1 1 3]]\n",
      "特征方差： [0.         0.22222222 2.88888889 0.        ]\n",
      "筛选后的数据：\n",
      " [[0]\n",
      " [4]\n",
      " [1]]\n"
     ]
    }
   ],
   "source": [
    "from sklearn.feature_selection import VarianceThreshold#VarianceThreshold是用于特征选择的类，用于删除方差小于阈值的特征/\n",
    "import numpy as np\n",
    "\n",
    "# 创建示例数据\n",
    "X = np.array([[0, 2, 0, 3], \n",
    "              [0, 1, 4, 3], \n",
    "              [0, 1, 1, 3]])\n",
    "\n",
    "# 创建VarianceThreshold对象，设置阈值为0.8\n",
    "selector = VarianceThreshold(threshold=0.8)#threshold参数用于设置阈值，默认值为0，表示不进行特征选择\n",
    "\n",
    "# 拟合并转换数据\n",
    "X_new = selector.fit_transform(X)\n",
    "\n",
    "print(\"原始数据：\\n\", X)\n",
    "print(\"特征方差：\", selector.variances_)\n",
    "print(\"筛选后的数据：\\n\", X_new)\n"
   ]
  },
  {
   "cell_type": "code",
   "execution_count": 2,
   "metadata": {},
   "outputs": [
    {
     "name": "stdout",
     "output_type": "stream",
     "text": [
      "原始数据：\n",
      " [[0 2 0 3]\n",
      " [0 1 4 3]\n",
      " [0 1 1 3]]\n",
      "PCA降维后的数据：\n",
      " [[-1.76504522  0.32686023]\n",
      " [ 2.35339362  0.13074409]\n",
      " [-0.58834841 -0.45760432]]\n",
      "各主成分的方差解释比例： [0.96428571 0.03571429]\n"
     ]
    }
   ],
   "source": [
    "from sklearn.decomposition import PCA#PCA是用于主成分分析的类，用于将高维数据降维到低维空间\n",
    "\n",
    "# 创建示例数据\n",
    "X = np.array([[0, 2, 0, 3], \n",
    "              [0, 1, 4, 3], \n",
    "              [0, 1, 1, 3]])\n",
    "\n",
    "# 创建PCA对象，设置主成分个数为2\n",
    "pca = PCA(n_components=2)#n_components参数用于设置主成分个数，默认值为None，表示不进行主成分分析\n",
    "\n",
    "# 拟合并转换数据\n",
    "X_pca = pca.fit_transform(X)\n",
    "\n",
    "print(\"原始数据：\\n\", X)\n",
    "print(\"PCA降维后的数据：\\n\", X_pca)\n",
    "print(\"各主成分的方差解释比例：\", pca.explained_variance_ratio_)\n",
    "\n"
   ]
  }
 ],
 "metadata": {
  "kernelspec": {
   "display_name": "Python 3",
   "language": "python",
   "name": "python3"
  },
  "language_info": {
   "codemirror_mode": {
    "name": "ipython",
    "version": 3
   },
   "file_extension": ".py",
   "mimetype": "text/x-python",
   "name": "python",
   "nbconvert_exporter": "python",
   "pygments_lexer": "ipython3",
   "version": "3.12.3"
  }
 },
 "nbformat": 4,
 "nbformat_minor": 2
}
