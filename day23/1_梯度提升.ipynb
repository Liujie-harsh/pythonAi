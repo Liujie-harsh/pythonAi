{
 "cells": [
  {
   "cell_type": "code",
   "execution_count": 1,
   "metadata": {},
   "outputs": [
    {
     "name": "stdout",
     "output_type": "stream",
     "text": [
      "梯度提升机在鸢尾花测试集上的准确率: 1.00\n"
     ]
    }
   ],
   "source": [
    "from sklearn.datasets import load_iris  # 导入鸢尾花数据集\n",
    "from sklearn.ensemble import GradientBoostingClassifier  # 导入梯度提升分类器\n",
    "from sklearn.model_selection import train_test_split  # 导入数据集划分工具\n",
    "from sklearn.metrics import accuracy_score  # 导入准确率评估函数\n",
    "\n",
    "# 加载鸢尾花数据集\n",
    "iris = load_iris()\n",
    "X, y = iris.data, iris.target  # 特征和标签\n",
    "\n",
    "# 将数据集划分为训练集和测试集，测试集占20%\n",
    "X_train, X_test, y_train, y_test = train_test_split(X, y, test_size=0.2, random_state=42)\n",
    "\n",
    "# 创建梯度提升分类器对象，设置基学习器数量为100，学习率为0.1\n",
    "gbc = GradientBoostingClassifier(n_estimators=100, learning_rate=0.1, random_state=42)\n",
    "\n",
    "# 在训练集上训练模型\n",
    "gbc.fit(X_train, y_train)\n",
    "\n",
    "# 在测试集上进行预测\n",
    "y_pred = gbc.predict(X_test)\n",
    "\n",
    "# 计算并输出模型在测试集上的准确率\n",
    "acc = accuracy_score(y_test, y_pred)\n",
    "print(f\"梯度提升机在鸢尾花测试集上的准确率: {acc:.2f}\")\n",
    "\n"
   ]
  }
 ],
 "metadata": {
  "kernelspec": {
   "display_name": "Python 3",
   "language": "python",
   "name": "python3"
  },
  "language_info": {
   "codemirror_mode": {
    "name": "ipython",
    "version": 3
   },
   "file_extension": ".py",
   "mimetype": "text/x-python",
   "name": "python",
   "nbconvert_exporter": "python",
   "pygments_lexer": "ipython3",
   "version": "3.12.3"
  }
 },
 "nbformat": 4,
 "nbformat_minor": 2
}
