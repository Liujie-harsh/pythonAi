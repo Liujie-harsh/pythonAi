{
 "cells": [
  {
   "cell_type": "code",
   "execution_count": 1,
   "metadata": {},
   "outputs": [],
   "source": [
    "# import matplotlib.pyplot as plt\n",
    "# from keras.datasets import mnist\n",
    "# (train_images, train_labels), (test_images, test_labels) = mnist.load_data()\n",
    "# digit = train_images[4]\n",
    "# plt.imshow(digit, cmap=plt.cm.binary)#cmap:颜色映射,plt.cm.binary:二进制颜色映射\n",
    "# plt.show()\n",
    "# #(samples, frames, height, width, channels）分别表示样本数、帧数、高度、宽度、通道数\n",
    "# #np.dot(a,b)表示a和b的点积\n",
    "\n",
    "\n"
   ]
  },
  {
   "cell_type": "code",
   "execution_count": 3,
   "metadata": {},
   "outputs": [
    {
     "name": "stdout",
     "output_type": "stream",
     "text": [
      "无解\n"
     ]
    }
   ],
   "source": [
    "# 河岸状态：(人, 猫, 鸟, 米, 船) 1表示在南岸，0表示在北岸\n",
    "# 规则：人必须在场才能带其他物品过河\n",
    "# 限制条件：猫不能和鸟单独在一起，猫不能和米单独在一起\n",
    "\n",
    "from collections import deque\n",
    "\n",
    "def is_valid(state):\n",
    "    # 检查南岸和北岸的状态是否合法\n",
    "    # state: (人, 猫, 鸟, 米, 船)\n",
    "    # 南岸\n",
    "    south = state\n",
    "    north = tuple(1-x for x in state)\n",
    "    # 检查猫和鸟\n",
    "    for side in [south, north]:\n",
    "        person, cat, bird, rice, boat = side\n",
    "        # 如果人不在，猫和鸟在一起\n",
    "        if person != cat and cat == bird:\n",
    "            return False\n",
    "        # 如果人不在，猫和米在一起\n",
    "        if person != cat and cat == rice:\n",
    "            return False\n",
    "    return True\n",
    "\n",
    "def get_next_states(state):\n",
    "    # 人可以带自己、猫、鸟、米中的一个过河\n",
    "    next_states = []\n",
    "    person, cat, bird, rice, boat = state\n",
    "    current_side = person  # 人和船必须在一起\n",
    "    # 可能的带法\n",
    "    for i, name in enumerate(['person', 'cat', 'bird', 'rice']):\n",
    "        # 只有在同一侧才能带\n",
    "        if state[i] == current_side:\n",
    "            # 带i过河\n",
    "            new_state = list(state)\n",
    "            for j in [0, i]:  # 人和i\n",
    "                new_state[j] = 1 - new_state[j]\n",
    "            new_state[4] = 1 - new_state[4]  # 船也过河\n",
    "            new_state = tuple(new_state)\n",
    "            if is_valid(new_state):\n",
    "                next_states.append(new_state)\n",
    "    return next_states\n",
    "\n",
    "def bfs():\n",
    "    start = (1,1,1,1,1)  # 全部在南岸\n",
    "    goal = (0,0,0,0,0)   # 全部到北岸\n",
    "    queue = deque()\n",
    "    queue.append((start, [start]))\n",
    "    visited = set()\n",
    "    visited.add(start)\n",
    "    while queue:\n",
    "        state, path = queue.popleft()\n",
    "        if state == goal:\n",
    "            return path\n",
    "        for next_state in get_next_states(state):\n",
    "            if next_state not in visited:\n",
    "                visited.add(next_state)\n",
    "                queue.append((next_state, path + [next_state]))\n",
    "    return None\n",
    "\n",
    "def print_solution(path):\n",
    "    names = ['人', '猫', '鸟', '米', '船']\n",
    "    for idx, state in enumerate(path):\n",
    "        south = [names[i] for i in range(5) if state[i]==1]\n",
    "        north = [names[i] for i in range(5) if state[i]==0]\n",
    "        print(f\"步骤{idx}: 南岸: {south} | 北岸: {north}\")\n",
    "\n",
    "solution = bfs()\n",
    "if solution:\n",
    "    print_solution(solution)\n",
    "else:\n",
    "    print(\"无解\")\n"
   ]
  },
  {
   "cell_type": "code",
   "execution_count": 4,
   "metadata": {},
   "outputs": [
    {
     "name": "stdout",
     "output_type": "stream",
     "text": [
      "贷款额为: 259999.44 元\n",
      "首付: 150000 元\n",
      "总房价: 409999.44 元\n"
     ]
    }
   ],
   "source": [
    "# 设贷款额为 x，月利率 r=0.003675，期数 n=15*12=180\n",
    "# 每月还款1977.04元，首付15万，总房价40.2万\n",
    "# 等额本息公式：A = P * r * (1 + r)^n / ((1 + r)^n - 1)\n",
    "# 求P\n",
    "def calc_loan_amount(monthly_payment, rate, months):\n",
    "    # A = P * r * (1 + r)^n / ((1 + r)^n - 1)\n",
    "    # => P = A * ((1 + r)^n - 1) / (r * (1 + r)^n)\n",
    "    A = monthly_payment\n",
    "    r = rate\n",
    "    n = months\n",
    "    numerator = (1 + r) ** n - 1\n",
    "    denominator = r * (1 + r) ** n\n",
    "    P = A * numerator / denominator\n",
    "    return P\n",
    "\n",
    "monthly_payment = 1977.04\n",
    "rate = 0.003675\n",
    "months = 15 * 12\n",
    "\n",
    "loan_amount = calc_loan_amount(monthly_payment, rate, months)\n",
    "print(f\"贷款额为: {loan_amount:.2f} 元\")\n",
    "print(f\"首付: 150000 元\")\n",
    "print(f\"总房价: {loan_amount + 150000:.2f} 元\")\n"
   ]
  }
 ],
 "metadata": {
  "kernelspec": {
   "display_name": "Python 3",
   "language": "python",
   "name": "python3"
  },
  "language_info": {
   "codemirror_mode": {
    "name": "ipython",
    "version": 3
   },
   "file_extension": ".py",
   "mimetype": "text/x-python",
   "name": "python",
   "nbconvert_exporter": "python",
   "pygments_lexer": "ipython3",
   "version": "3.12.3"
  }
 },
 "nbformat": 4,
 "nbformat_minor": 2
}
