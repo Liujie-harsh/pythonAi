{
 "cells": [
  {
   "cell_type": "code",
   "execution_count": null,
   "id": "initial_id",
   "metadata": {
    "collapsed": true
   },
   "outputs": [
    {
     "name": "stdout",
     "output_type": "stream",
     "text": [
      "训练集准确率: 0.855\n",
      "测试集准确率: 0.845\n"
     ]
    }
   ],
   "source": [
    "import numpy as np\n",
    "from sklearn.ensemble import BaggingClassifier\n",
    "from sklearn.tree import DecisionTreeClassifier\n",
    "from sklearn.datasets import make_classification\n",
    "from sklearn.model_selection import train_test_split\n",
    "\n",
    "# 生成一个示例数据集，20个特征，15个有用的特征，5个冗余特征\n",
    "X, y = make_classification(n_samples=1000, n_features=20, n_informative=15, \n",
    "                         n_redundant=5, random_state=42)\n",
    "\n",
    "# 划分训练集和测试集\n",
    "X_train, X_test, y_train, y_test = train_test_split(X, y, test_size=0.2, random_state=42)\n",
    "\n",
    "# 创建基分类器 - 决策树\n",
    "base_estimator = DecisionTreeClassifier(max_depth=3)\n",
    "\n",
    "# 创建Bagging分类器\n",
    "bagging = BaggingClassifier(\n",
    "    estimator=base_estimator, \n",
    "    n_estimators=10,  # 集成10个基分类器\n",
    "    max_samples=0.8,   # 每个基分类器使用80%的训练样本\n",
    "    max_features=0.8,  # 每个基分类器使用80%的特征\n",
    "    random_state=42)\n",
    "\n",
    "# 训练模型\n",
    "bagging.fit(X_train, y_train)\n",
    "\n",
    "# 评估模型\n",
    "train_score = bagging.score(X_train, y_train)\n",
    "test_score = bagging.score(X_test, y_test)\n",
    "\n",
    "print(f\"训练集准确率: {train_score:.3f}\")\n",
    "print(f\"测试集准确率: {test_score:.3f}\")\n"
   ]
  },
  {
   "cell_type": "code",
   "execution_count": 3,
   "id": "84286a03",
   "metadata": {},
   "outputs": [
    {
     "name": "stdout",
     "output_type": "stream",
     "text": [
      "\n",
      "AdaBoost模型评估结果:\n",
      "训练集准确率: 0.955\n",
      "测试集准确率: 0.870\n",
      "\n",
      "两种方法对比:\n",
      "Bagging vs AdaBoost\n",
      "训练集准确率: 0.855 vs 0.955\n",
      "测试集准确率: 0.845 vs 0.870\n"
     ]
    }
   ],
   "source": [
    "from sklearn.ensemble import AdaBoostClassifier\n",
    "\n",
    "# 创建AdaBoost分类器\n",
    "adaboost = AdaBoostClassifier(\n",
    "    estimator=base_estimator,\n",
    "    n_estimators=10,  # 使用相同数量的基分类器便于比较\n",
    "    random_state=42\n",
    ")\n",
    "\n",
    "# 训练AdaBoost模型\n",
    "adaboost.fit(X_train, y_train)\n",
    "\n",
    "# 评估AdaBoost模型\n",
    "ada_train_score = adaboost.score(X_train, y_train)\n",
    "ada_test_score = adaboost.score(X_test, y_test)\n",
    "\n",
    "print(\"\\nAdaBoost模型评估结果:\")\n",
    "print(f\"训练集准确率: {ada_train_score:.3f}\")\n",
    "print(f\"测试集准确率: {ada_test_score:.3f}\")\n",
    "\n",
    "print(\"\\n两种方法对比:\")\n",
    "print(\"Bagging vs AdaBoost\")\n",
    "print(f\"训练集准确率: {train_score:.3f} vs {ada_train_score:.3f}\")\n",
    "print(f\"测试集准确率: {test_score:.3f} vs {ada_test_score:.3f}\")\n"
   ]
  }
 ],
 "metadata": {
  "kernelspec": {
   "display_name": "Python 3",
   "language": "python",
   "name": "python3"
  },
  "language_info": {
   "codemirror_mode": {
    "name": "ipython",
    "version": 3
   },
   "file_extension": ".py",
   "mimetype": "text/x-python",
   "name": "python",
   "nbconvert_exporter": "python",
   "pygments_lexer": "ipython3",
   "version": "3.12.3"
  }
 },
 "nbformat": 4,
 "nbformat_minor": 5
}
