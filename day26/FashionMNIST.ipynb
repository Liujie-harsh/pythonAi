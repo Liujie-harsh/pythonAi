{
 "cells": [
  {
   "cell_type": "code",
   "execution_count": 9,
   "id": "initial_id",
   "metadata": {
    "collapsed": true
   },
   "outputs": [
    {
     "name": "stderr",
     "output_type": "stream",
     "text": [
      " 10%|█         | 10/100 [00:00<00:00, 96.10it/s]"
     ]
    },
    {
     "name": "stdout",
     "output_type": "stream",
     "text": [
      "0\n",
      "1\n",
      "2\n",
      "3\n",
      "4\n",
      "5\n",
      "6\n",
      "7\n",
      "8\n",
      "9\n",
      "10\n",
      "11\n",
      "12\n",
      "13\n",
      "14\n",
      "15\n",
      "16\n",
      "17\n",
      "18\n"
     ]
    },
    {
     "name": "stderr",
     "output_type": "stream",
     "text": [
      " 40%|████      | 40/100 [00:00<00:00, 94.71it/s]"
     ]
    },
    {
     "name": "stdout",
     "output_type": "stream",
     "text": [
      "19\n",
      "20\n",
      "21\n",
      "22\n",
      "23\n",
      "24\n",
      "25\n",
      "26\n",
      "27\n",
      "28\n",
      "29\n",
      "30\n",
      "31\n",
      "32\n",
      "33\n",
      "34\n",
      "35\n",
      "36\n",
      "37\n",
      "38\n",
      "39\n"
     ]
    },
    {
     "name": "stderr",
     "output_type": "stream",
     "text": [
      " 50%|█████     | 50/100 [00:00<00:00, 94.62it/s]"
     ]
    },
    {
     "name": "stdout",
     "output_type": "stream",
     "text": [
      "40\n",
      "41\n",
      "42\n",
      "43\n",
      "44\n",
      "45\n",
      "46\n",
      "47\n",
      "48\n",
      "49\n",
      "50\n",
      "51\n",
      "52\n",
      "53\n",
      "54\n",
      "55\n",
      "56\n",
      "57\n",
      "58\n"
     ]
    },
    {
     "name": "stderr",
     "output_type": "stream",
     "text": [
      " 70%|███████   | 70/100 [00:00<00:00, 94.96it/s]"
     ]
    },
    {
     "name": "stdout",
     "output_type": "stream",
     "text": [
      "59\n",
      "60\n",
      "61\n",
      "62\n",
      "63\n",
      "64\n",
      "65\n",
      "66\n",
      "67\n",
      "68\n",
      "69\n",
      "70\n",
      "71\n",
      "72\n",
      "73\n",
      "74\n",
      "75\n",
      "76\n",
      "77\n",
      "78\n"
     ]
    },
    {
     "name": "stderr",
     "output_type": "stream",
     "text": [
      " 90%|█████████ | 90/100 [00:00<00:00, 94.66it/s]"
     ]
    },
    {
     "name": "stdout",
     "output_type": "stream",
     "text": [
      "79\n",
      "80\n",
      "81\n",
      "82\n",
      "83\n",
      "84\n",
      "85\n",
      "86\n",
      "87\n",
      "88\n",
      "89\n",
      "90\n",
      "91\n",
      "92\n",
      "93\n",
      "94\n",
      "95\n",
      "96\n",
      "97\n"
     ]
    },
    {
     "name": "stderr",
     "output_type": "stream",
     "text": [
      "100%|██████████| 100/100 [00:01<00:00, 94.64it/s]"
     ]
    },
    {
     "name": "stdout",
     "output_type": "stream",
     "text": [
      "98\n",
      "99\n"
     ]
    },
    {
     "name": "stderr",
     "output_type": "stream",
     "text": [
      "\n"
     ]
    }
   ],
   "source": [
    "# 导入必要的库\n",
    "import torch  # PyTorch深度学习框架\n",
    "import torchvision  # PyTorch的计算机视觉库，包含常用数据集、模型和数据增强等\n",
    "import numpy as np  # 用于数值计算的库\n",
    "import matplotlib.pyplot as plt  # 用于绘图的库\n",
    "from tqdm import tqdm\n",
    "import time\n",
    "from torchvision import datasets, transforms  # 导入数据集和数据转换工具\n"
   ]
  },
  {
   "cell_type": "code",
   "execution_count": null,
   "id": "f8049155",
   "metadata": {},
   "outputs": [],
   "source": []
  },
  {
   "cell_type": "code",
   "execution_count": 12,
   "id": "24fee12d",
   "metadata": {},
   "outputs": [
    {
     "name": "stdout",
     "output_type": "stream",
     "text": [
      "使用设备: cpu\n"
     ]
    },
    {
     "name": "stderr",
     "output_type": "stream",
     "text": [
      "轮次 [1/5] 训练: 100%|██████████| 860/860 [00:11<00:00, 75.31it/s, 损失=0.6280]\n",
      "轮次 [1/5] 验证: 100%|██████████| 79/79 [00:00<00:00, 105.74it/s, 损失=1.1888]\n"
     ]
    },
    {
     "name": "stdout",
     "output_type": "stream",
     "text": [
      "轮次 1/5 完成! 训练损失: 0.8581, 训练准确率: 68.53%, 验证损失: 0.4926, 验证准确率: 82.38%\n"
     ]
    },
    {
     "name": "stderr",
     "output_type": "stream",
     "text": [
      "轮次 [2/5] 训练: 100%|██████████| 860/860 [00:11<00:00, 75.17it/s, 损失=0.5079]\n",
      "轮次 [2/5] 验证: 100%|██████████| 79/79 [00:00<00:00, 97.72it/s, 损失=1.2441] \n"
     ]
    },
    {
     "name": "stdout",
     "output_type": "stream",
     "text": [
      "轮次 2/5 完成! 训练损失: 0.4713, 训练准确率: 83.08%, 验证损失: 0.4118, 验证准确率: 85.68%\n"
     ]
    },
    {
     "name": "stderr",
     "output_type": "stream",
     "text": [
      "轮次 [3/5] 训练: 100%|██████████| 860/860 [00:11<00:00, 73.97it/s, 损失=0.5492]\n",
      "轮次 [3/5] 验证: 100%|██████████| 79/79 [00:00<00:00, 110.21it/s, 损失=1.0249]\n"
     ]
    },
    {
     "name": "stdout",
     "output_type": "stream",
     "text": [
      "轮次 3/5 完成! 训练损失: 0.4146, 训练准确率: 85.04%, 验证损失: 0.3872, 验证准确率: 86.18%\n"
     ]
    },
    {
     "name": "stderr",
     "output_type": "stream",
     "text": [
      "轮次 [4/5] 训练: 100%|██████████| 860/860 [00:11<00:00, 73.33it/s, 损失=0.3676]\n",
      "轮次 [4/5] 验证: 100%|██████████| 79/79 [00:00<00:00, 106.79it/s, 损失=1.0665]\n"
     ]
    },
    {
     "name": "stdout",
     "output_type": "stream",
     "text": [
      "轮次 4/5 完成! 训练损失: 0.3874, 训练准确率: 86.00%, 验证损失: 0.3751, 验证准确率: 86.48%\n"
     ]
    },
    {
     "name": "stderr",
     "output_type": "stream",
     "text": [
      "轮次 [5/5] 训练: 100%|██████████| 860/860 [00:11<00:00, 76.87it/s, 损失=0.8460]\n",
      "轮次 [5/5] 验证: 100%|██████████| 79/79 [00:00<00:00, 104.22it/s, 损失=0.9222]\n"
     ]
    },
    {
     "name": "stdout",
     "output_type": "stream",
     "text": [
      "轮次 5/5 完成! 训练损失: 0.3662, 训练准确率: 86.51%, 验证损失: 0.3871, 验证准确率: 84.88%\n"
     ]
    },
    {
     "data": {
      "image/png": "[encoded data removed]",
      "text/plain": [
       "<Figure size 1200x500 with 2 Axes>"
      ]
     },
     "metadata": {},
     "output_type": "display_data"
    }
   ],
   "source": [
    "\n",
    "# 定义数据预处理转换\n",
    "transform = transforms.Compose([\n",
    "    transforms.ToTensor()  # 将图片转换为张量，并自动将像素值归一化到[0,1]范围\n",
    "])\n",
    "\n",
    "# 加载Fashion-MNIST数据集\n",
    "train_dataset = datasets.FashionMNIST(\n",
    "    root='./data',       # 数据集保存路径\n",
    "    train=True,          # 加载训练集\n",
    "    download=True,       # 如果数据不存在则下载\n",
    "    transform=transform  # 应用数据转换\n",
    ")\n",
    "\n",
    "test_dataset = datasets.FashionMNIST(\n",
    "    root='./data',       # 数据集保存路径\n",
    "    train=False,         # 加载测试集\n",
    "    download=True,       # 如果数据不存在则下载\n",
    "    transform=transform  # 应用数据转换\n",
    ")\n",
    "\n",
    "\n",
    "# 将PyTorch张量转换为NumPy数组以便进行预处理\n",
    "train_images = train_dataset.data.numpy()  # 训练图像数据转换为NumPy数组\n",
    "train_labels = train_dataset.targets.numpy()  # 训练标签转换为NumPy数组\n",
    "test_images = test_dataset.data.numpy()  # 测试图像数据转换为NumPy数组\n",
    "test_labels = test_dataset.targets.numpy()  # 测试标签转换为NumPy数组\n",
    "\n",
    "\n",
    "# 定义Fashion-MNIST数据集的10个类别名称\n",
    "class_names = [\n",
    "    'T-shirt/top',  # 0: T恤/上衣\n",
    "    '裤子',         # 1: 裤子\n",
    "    '套头衫',       # 2: 套头衫\n",
    "    '连衣裙',       # 3: 连衣裙\n",
    "    '外套',         # 4: 外套\n",
    "    '凉鞋',         # 5: 凉鞋\n",
    "    '衬衫',         # 6: 衬衫\n",
    "    '运动鞋',       # 7: 运动鞋\n",
    "    '包',           # 8: 包\n",
    "    '短靴'          # 9: 短靴\n",
    "]\n",
    "\n",
    "\n",
    "train_labels[0:20]\n",
    "\n",
    "# 使用MinMaxScaler对图像数据进行归一化处理\n",
    "from sklearn.preprocessing import MinMaxScaler\n",
    "scaler = MinMaxScaler()  # 创建MinMaxScaler实例，将数据缩放到[0,1]范围\n",
    "\n",
    "# 对训练图像进行归一化\n",
    "# 1. reshape(-1, train_images.shape[-1]): 将图像展平为2D数组\n",
    "# 2. fit_transform: 计算缩放参数并应用\n",
    "# 3. reshape(train_images.shape): 恢复原始形状\n",
    "train_images = scaler.fit_transform(train_images.reshape(-1, train_images.shape[-1])).reshape(train_images.shape)\n",
    "\n",
    "# 对测试图像进行归一化\n",
    "# 使用在训练集上计算的缩放参数\n",
    "test_images = scaler.transform(test_images.reshape(-1, test_images.shape[-1])).reshape(test_images.shape)\n",
    "\n",
    "\n",
    "# 划分训练集和验证集\n",
    "train_size = 55000  # 训练集样本数量\n",
    "val_size = 5000     # 验证集样本数量\n",
    "\n",
    "# 使用PyTorch的random_split函数将原始训练集划分为训练集和验证集\n",
    "from torch.utils.data import Dataset\n",
    "train_dataset, val_dataset = torch.utils.data.random_split(\n",
    "    train_dataset,           # 要划分的数据集\n",
    "    [train_size, val_size]   # 每个子集的大小\n",
    ")\n",
    "\n",
    "# 创建数据加载器(DataLoader)\n",
    "# DataLoader用于批量加载数据，支持随机打乱、多进程加载等功能\n",
    "\n",
    "# 训练集的DataLoader\n",
    "train_loader = torch.utils.data.DataLoader(\n",
    "    dataset=train_dataset,  # 数据集\n",
    "    batch_size=64,         # 每批处理的样本数\n",
    "    shuffle=True           # 随机打乱数据\n",
    ")\n",
    "\n",
    "# 验证集的DataLoader\n",
    "val_loader = torch.utils.data.DataLoader(\n",
    "    dataset=val_dataset,   # 数据集\n",
    "    batch_size=64,         # 每批处理的样本数\n",
    "    shuffle=False          # 验证集不需要打乱数据\n",
    ")\n",
    "\n",
    "\n",
    "\n",
    "# 导入PyTorch神经网络相关模块\n",
    "import torch.nn as nn                # 包含神经网络层的基类和常用层的实现\n",
    "import torch.nn.functional as F      # 包含激活函数和其他函数操作\n",
    "import torch.optim as optim         # 包含各种优化器的实现\n",
    "\n",
    "# 定义Fashion-MNIST分类网络\n",
    "class FashionMNISTNet(nn.Module):\n",
    "    \"\"\"\n",
    "    一个用于Fashion-MNIST图像分类的全连接神经网络\n",
    "    网络结构：输入层(784) -> 全连接层(512) -> 全连接层(256) -> 全连接层(128) -> 输出层(10)\n",
    "    每个隐藏层后都使用ReLU激活函数和Dropout正则化\n",
    "    \"\"\"\n",
    "    def __init__(self):\n",
    "        super(FashionMNISTNet, self).__init__()\n",
    "        # 定义网络层\n",
    "        self.fc1 = nn.Linear(28*28, 512)    # 第一个全连接层：输入784(28x28像素)，输出512个神经元\n",
    "        self.fc2 = nn.Linear(512, 256)      # 第二个全连接层：输入512，输出256个神经元\n",
    "        self.fc3 = nn.Linear(256, 128)      # 第三个全连接层：输入256，输出128个神经元\n",
    "        self.fc4 = nn.Linear(128, 10)       # 输出层：输入128，输出10个类别\n",
    "        self.dropout = nn.Dropout(0.2)      # Dropout层：随机丢弃20%的神经元，防止过拟合\n",
    "        \n",
    "    def forward(self, x):\n",
    "        \"\"\"\n",
    "        前向传播函数\n",
    "        参数:\n",
    "            x: 输入图像张量，形状为(batch_size, 1, 28, 28)\n",
    "        返回:\n",
    "            x: 输出预测张量，形状为(batch_size, 10)\n",
    "        \"\"\"\n",
    "        x = x.view(-1, 28*28)              # 将输入图像展平：(batch_size, 1, 28, 28) -> (batch_size, 784)\n",
    "        \n",
    "        # 第一层：全连接 -> ReLU激活 -> Dropout\n",
    "        x = F.relu(self.fc1(x))            # 线性变换后应用ReLU激活函数\n",
    "        x = self.dropout(x)                # 应用dropout防止过拟合\n",
    "        \n",
    "        # 第二层：全连接 -> ReLU激活 -> Dropout\n",
    "        x = F.relu(self.fc2(x))\n",
    "        x = self.dropout(x)\n",
    "        \n",
    "        # 第三层：全连接 -> ReLU激活 -> Dropout\n",
    "        x = F.relu(self.fc3(x))\n",
    "        x = self.dropout(x)\n",
    "        \n",
    "        # 输出层：全连接（不使用激活函数，因为后面会用交叉熵损失）\n",
    "        x = self.fc4(x)\n",
    "        return x\n",
    "\n",
    "# 创建模型实例\n",
    "model = FashionMNISTNet()\n",
    "\n",
    "# 检测并设置计算设备（GPU/CPU）\n",
    "device = torch.device(\"cuda:0\" if torch.cuda.is_available() else \"cpu\")\n",
    "print(f\"使用设备: {device}\")\n",
    "\n",
    "# 将模型移动到指定设备（GPU/CPU）\n",
    "model = model.to(device)\n",
    "\n",
    "# 定义训练所需的损失函数和优化器\n",
    "criterion = nn.CrossEntropyLoss()                                    # 交叉熵损失函数，适用于多分类问题\n",
    "optimizer = optim.SGD(model.parameters(),                           # 随机梯度下降优化器\n",
    "                     lr=0.01,                                       # 学习率\n",
    "                     momentum=0.9)                                  # 动量因子，帮助优化器跳出局部最小值\n",
    "\n",
    "\n",
    "def evaluate_model(model, data_loader, device):\n",
    "    \"\"\"\n",
    "    评估模型在给定数据集上的准确率\n",
    "    \n",
    "    参数:\n",
    "        model: 需要评估的模型\n",
    "        data_loader: 数据加载器\n",
    "        device: 计算设备(CPU/GPU)\n",
    "    \n",
    "    返回:\n",
    "        accuracy: 模型准确率\n",
    "    \"\"\"\n",
    "    model.eval()  # 设置为评估模式\n",
    "    correct = 0\n",
    "    total = 0\n",
    "    \n",
    "    with torch.no_grad():  # 不计算梯度\n",
    "        for images, labels in data_loader:\n",
    "            images, labels = images.to(device), labels.to(device)\n",
    "            outputs = model(images)\n",
    "            _, predicted = torch.max(outputs.data, 1) #torch.max(outputs.data, 1)返回两个值，第一个是最大值，第二个是最大值的索引\n",
    "            total += labels.size(0) #labels.size(0)返回标签的维度，这里返回的是batch_size，因为每个批次有batch_size个标签\n",
    "            correct += (predicted == labels).sum().item() #(predicted == labels).sum().item()返回预测正确的标签的个数\n",
    "    \n",
    "    accuracy = 100 * correct / total #计算准确率\n",
    "    print(f\"测试集准确率: {accuracy:.2f}%\")\n",
    "    return accuracy\n",
    "\n",
    "def train_model(model, train_loader, val_loader, criterion, optimizer, device, num_epochs=20):\n",
    "    \"\"\"\n",
    "    训练模型函数\n",
    "    \n",
    "    参数:\n",
    "        model: 要训练的模型\n",
    "        train_loader: 训练数据加载器\n",
    "        val_loader: 验证数据加载器\n",
    "        criterion: 损失函数\n",
    "        optimizer: 优化器\n",
    "        device: 计算设备(CPU/GPU)\n",
    "        num_epochs: 训练轮数\n",
    "        \n",
    "    返回:\n",
    "        model: 训练好的模型\n",
    "        history: 训练历史数据，包含每轮的损失和准确率\n",
    "    \"\"\"\n",
    "    # 记录训练历史\n",
    "    history = {\n",
    "        'train_loss': [],\n",
    "        'train_acc': [],\n",
    "        'val_loss': [],\n",
    "        'val_acc': []\n",
    "    }\n",
    "    \n",
    "    # 训练循环\n",
    "    best_val_acc = 0\n",
    "    patience = 5\n",
    "    counter = 0\n",
    "    \n",
    "    for epoch in range(num_epochs):\n",
    "        model.train()  # 设置为训练模式\n",
    "        running_loss = 0.0\n",
    "        correct = 0\n",
    "        total = 0\n",
    "        \n",
    "        # 使用tqdm可视化训练进度\n",
    "        train_pbar = tqdm(train_loader, desc=f'轮次 [{epoch+1}/{num_epochs}] 训练', leave=True)\n",
    "        # 训练一个epoch,把55000全部训练一遍\n",
    "        for i, (images, labels) in enumerate(train_pbar):\n",
    "            images, labels = images.to(device), labels.to(device)\n",
    "            \n",
    "            # 梯度清零\n",
    "            optimizer.zero_grad()\n",
    "            \n",
    "            # 前向传播\n",
    "            outputs = model(images)\n",
    "            loss = criterion(outputs, labels)\n",
    "            \n",
    "            # 反向传播与优化\n",
    "            loss.backward() #反向传播，计算梯度\n",
    "            optimizer.step() #优化器更新参数\n",
    "            \n",
    "            # 统计损失和准确率\n",
    "            running_loss += loss.item()\n",
    "            _, predicted = torch.max(outputs.data, 1)\n",
    "            total += labels.size(0)\n",
    "            correct += (predicted == labels).sum().item()\n",
    "            \n",
    "            # 更新进度条信息\n",
    "            train_pbar.set_postfix({'损失': f'{loss.item():.4f}'})\n",
    "        \n",
    "        # 计算当前epoch的平均损失和准确率\n",
    "        epoch_train_loss = running_loss / len(train_loader)\n",
    "        epoch_train_acc = 100 * correct / total\n",
    "        \n",
    "        # 评估验证集\n",
    "        model.eval()  # 设置为评估模式\n",
    "        val_loss = 0.0\n",
    "        val_correct = 0\n",
    "        val_total = 0\n",
    "        \n",
    "        # 使用tqdm可视化验证进度\n",
    "        val_pbar = tqdm(val_loader, desc=f'轮次 [{epoch+1}/{num_epochs}] 验证', leave=True)\n",
    "        with torch.no_grad():  # 不计算梯度\n",
    "            for images, labels in val_pbar:\n",
    "                images, labels = images.to(device), labels.to(device)\n",
    "                outputs = model(images)\n",
    "                loss = criterion(outputs, labels)\n",
    "                val_loss += loss.item()\n",
    "                _, predicted = torch.max(outputs.data, 1)\n",
    "                val_total += labels.size(0)\n",
    "                val_correct += (predicted == labels).sum().item()\n",
    "                \n",
    "                # 更新进度条信息\n",
    "                val_pbar.set_postfix({'损失': f'{loss.item():.4f}'})\n",
    "        \n",
    "        epoch_val_loss = val_loss / len(val_loader)\n",
    "        epoch_val_acc = 100 * val_correct / val_total\n",
    "        \n",
    "        # 早停检查\n",
    "        if epoch_val_acc > best_val_acc:\n",
    "            best_val_acc = epoch_val_acc\n",
    "            counter = 0\n",
    "        else:\n",
    "            counter += 1\n",
    "            if counter >= patience:\n",
    "                print(f'早停! 验证准确率已连续{patience}轮未提升')\n",
    "                break\n",
    "        # 记录历史数据\n",
    "        history['train_loss'].append(epoch_train_loss)\n",
    "        history['train_acc'].append(epoch_train_acc)\n",
    "        history['val_loss'].append(epoch_val_loss)\n",
    "        history['val_acc'].append(epoch_val_acc)\n",
    "        \n",
    "        print(f'轮次 {epoch+1}/{num_epochs} 完成! 训练损失: {epoch_train_loss:.4f}, 训练准确率: {epoch_train_acc:.2f}%, 验证损失: {epoch_val_loss:.4f}, 验证准确率: {epoch_val_acc:.2f}%')\n",
    "    # 绘制训练历史\n",
    "    def plot_training_history(history):\n",
    "        plt.figure(figsize=(12, 5))\n",
    "        \n",
    "        # 设置中文字体\n",
    "        plt.rcParams['font.sans-serif'] = ['SimHei']  # 用来正常显示中文标签\n",
    "        plt.rcParams['axes.unicode_minus'] = False    # 用来正常显示负号\n",
    "        \n",
    "        # 绘制损失曲线\n",
    "        plt.subplot(1, 2, 1)\n",
    "        plt.plot(history['train_loss'], label='训练损失')\n",
    "        plt.plot(history['val_loss'], label='验证损失')\n",
    "        plt.xlabel('轮次')\n",
    "        plt.ylabel('损失')\n",
    "        plt.title('训练与验证损失变化')\n",
    "        plt.legend()\n",
    "        \n",
    "        # 绘制准确率曲线\n",
    "        plt.subplot(1, 2, 2)\n",
    "        plt.plot(history['train_acc'], label='训练准确率')\n",
    "        plt.plot(history['val_acc'], label='验证准确率')\n",
    "        plt.xlabel('轮次')\n",
    "        plt.ylabel('准确率 (%)')\n",
    "        plt.title('训练和验证准确率变化')\n",
    "        plt.legend()\n",
    "        \n",
    "        plt.tight_layout()\n",
    "        plt.show()\n",
    "    \n",
    "    # 调用函数绘制训练历史\n",
    "    plot_training_history(history)\n",
    "    \n",
    "    return model, history\n",
    "\n",
    "# 开始训练模型\n",
    "model, history = train_model(model, train_loader, val_loader, criterion, optimizer, device, num_epochs=5)\n"
   ]
  },
  {
   "cell_type": "code",
   "execution_count": 8,
   "id": "54705ad9",
   "metadata": {},
   "outputs": [
    {
     "name": "stdout",
     "output_type": "stream",
     "text": [
      "测试集准确率: 90.22%\n"
     ]
    },
    {
     "data": {
      "text/plain": [
       "90.22"
      ]
     },
     "execution_count": 8,
     "metadata": {},
     "output_type": "execute_result"
    }
   ],
   "source": [
    "evaluate_model(model, val_loader, device)\n"
   ]
  },
  {
   "cell_type": "code",
   "execution_count": 66,
   "id": "3c6c8d51",
   "metadata": {},
   "outputs": [
    {
     "name": "stdout",
     "output_type": "stream",
     "text": [
      "模型已保存为 'fashion_mnist_model.pth'\n",
      "训练历史已保存为 'fashion_mnist_history.pkl'\n"
     ]
    }
   ],
   "source": [
    "# 保存训练好的模型参数\n",
    "torch.save(model.state_dict(),                  # 保存模型的参数（权重和偏置）\n",
    "          'fashion_mnist_model.pth')            # 保存的文件名\n",
    "print(\"模型已保存为 'fashion_mnist_model.pth'\")\n",
    "\n",
    "# 保存训练过程中的历史数据（损失和准确率）\n",
    "import pickle\n",
    "with open('fashion_mnist_history.pkl', 'wb') as f:\n",
    "    pickle.dump(history,                        # 要保存的历史数据字典\n",
    "               f)                               # 文件对象\n",
    "print(\"训练历史已保存为 'fashion_mnist_history.pkl'\")\n"
   ]
  },
  {
   "cell_type": "code",
   "execution_count": 13,
   "id": "3481441c",
   "metadata": {},
   "outputs": [
    {
     "name": "stdout",
     "output_type": "stream",
     "text": [
      "使用设备: cpu\n",
      "特征数量: 8\n",
      "特征名称: ['MedInc', 'HouseAge', 'AveRooms', 'AveBedrms', 'Population', 'AveOccup', 'Latitude', 'Longitude']\n"
     ]
    },
    {
     "name": "stderr",
     "output_type": "stream",
     "text": [
      "轮次 [1/50] 训练: 100%|██████████| 258/258 [00:01<00:00, 243.17it/s, 损失=0.5373]\n",
      "轮次 [1/50] 验证: 100%|██████████| 65/65 [00:00<00:00, 433.83it/s, 损失=0.3770]\n"
     ]
    },
    {
     "name": "stdout",
     "output_type": "stream",
     "text": [
      "\n",
      "轮次 1/50, 训练损失: 1.2583, 验证损失: 0.5820\n",
      "\n"
     ]
    },
    {
     "name": "stderr",
     "output_type": "stream",
     "text": [
      "轮次 [2/50] 训练: 100%|██████████| 258/258 [00:00<00:00, 267.15it/s, 损失=0.4138]\n",
      "轮次 [2/50] 验证: 100%|██████████| 65/65 [00:00<00:00, 423.15it/s, 损失=0.2443]\n"
     ]
    },
    {
     "name": "stdout",
     "output_type": "stream",
     "text": [
      "\n",
      "轮次 2/50, 训练损失: 0.4790, 验证损失: 0.4422\n",
      "\n"
     ]
    },
    {
     "name": "stderr",
     "output_type": "stream",
     "text": [
      "轮次 [3/50] 训练: 100%|██████████| 258/258 [00:00<00:00, 262.44it/s, 损失=0.3475]\n",
      "轮次 [3/50] 验证: 100%|██████████| 65/65 [00:00<00:00, 314.52it/s, 损失=0.2070]\n"
     ]
    },
    {
     "name": "stdout",
     "output_type": "stream",
     "text": [
      "\n",
      "轮次 3/50, 训练损失: 0.4090, 验证损失: 0.4188\n",
      "\n"
     ]
    },
    {
     "name": "stderr",
     "output_type": "stream",
     "text": [
      "轮次 [4/50] 训练: 100%|██████████| 258/258 [00:00<00:00, 261.67it/s, 损失=0.3249]\n",
      "轮次 [4/50] 验证: 100%|██████████| 65/65 [00:00<00:00, 345.34it/s, 损失=0.2304]\n"
     ]
    },
    {
     "name": "stdout",
     "output_type": "stream",
     "text": [
      "\n",
      "轮次 4/50, 训练损失: 0.3838, 验证损失: 0.3830\n",
      "\n"
     ]
    },
    {
     "name": "stderr",
     "output_type": "stream",
     "text": [
      "轮次 [5/50] 训练: 100%|██████████| 258/258 [00:00<00:00, 265.64it/s, 损失=0.3375]\n",
      "轮次 [5/50] 验证: 100%|██████████| 65/65 [00:00<00:00, 437.28it/s, 损失=0.2034]\n"
     ]
    },
    {
     "name": "stdout",
     "output_type": "stream",
     "text": [
      "\n",
      "轮次 5/50, 训练损失: 0.3662, 验证损失: 0.3775\n",
      "\n"
     ]
    },
    {
     "name": "stderr",
     "output_type": "stream",
     "text": [
      "轮次 [6/50] 训练: 100%|██████████| 258/258 [00:00<00:00, 276.21it/s, 损失=0.2016]\n",
      "轮次 [6/50] 验证: 100%|██████████| 65/65 [00:00<00:00, 435.56it/s, 损失=0.1992]\n"
     ]
    },
    {
     "name": "stdout",
     "output_type": "stream",
     "text": [
      "\n",
      "轮次 6/50, 训练损失: 0.3625, 验证损失: 0.3610\n",
      "\n"
     ]
    },
    {
     "name": "stderr",
     "output_type": "stream",
     "text": [
      "轮次 [7/50] 训练: 100%|██████████| 258/258 [00:00<00:00, 270.38it/s, 损失=0.3302]\n",
      "轮次 [7/50] 验证: 100%|██████████| 65/65 [00:00<00:00, 349.99it/s, 损失=0.2056]\n"
     ]
    },
    {
     "name": "stdout",
     "output_type": "stream",
     "text": [
      "\n",
      "轮次 7/50, 训练损失: 0.3448, 验证损失: 0.3513\n",
      "\n"
     ]
    },
    {
     "name": "stderr",
     "output_type": "stream",
     "text": [
      "轮次 [8/50] 训练: 100%|██████████| 258/258 [00:00<00:00, 262.07it/s, 损失=0.2998]\n",
      "轮次 [8/50] 验证: 100%|██████████| 65/65 [00:00<00:00, 363.17it/s, 损失=0.2357]\n"
     ]
    },
    {
     "name": "stdout",
     "output_type": "stream",
     "text": [
      "\n",
      "轮次 8/50, 训练损失: 0.3384, 验证损失: 0.3529\n",
      "\n"
     ]
    },
    {
     "name": "stderr",
     "output_type": "stream",
     "text": [
      "轮次 [9/50] 训练: 100%|██████████| 258/258 [00:00<00:00, 277.52it/s, 损失=0.5843]\n",
      "轮次 [9/50] 验证: 100%|██████████| 65/65 [00:00<00:00, 516.87it/s, 损失=0.2183]\n"
     ]
    },
    {
     "name": "stdout",
     "output_type": "stream",
     "text": [
      "\n",
      "轮次 9/50, 训练损失: 0.3290, 验证损失: 0.3867\n",
      "\n"
     ]
    },
    {
     "name": "stderr",
     "output_type": "stream",
     "text": [
      "轮次 [10/50] 训练: 100%|██████████| 258/258 [00:00<00:00, 281.40it/s, 损失=0.2451]\n",
      "轮次 [10/50] 验证: 100%|██████████| 65/65 [00:00<00:00, 451.27it/s, 损失=0.2068]\n"
     ]
    },
    {
     "name": "stdout",
     "output_type": "stream",
     "text": [
      "\n",
      "轮次 10/50, 训练损失: 0.3240, 验证损失: 0.3361\n",
      "\n"
     ]
    },
    {
     "name": "stderr",
     "output_type": "stream",
     "text": [
      "轮次 [11/50] 训练: 100%|██████████| 258/258 [00:00<00:00, 273.27it/s, 损失=0.1701]\n",
      "轮次 [11/50] 验证: 100%|██████████| 65/65 [00:00<00:00, 375.53it/s, 损失=0.2463]\n"
     ]
    },
    {
     "name": "stdout",
     "output_type": "stream",
     "text": [
      "\n",
      "轮次 11/50, 训练损失: 0.3228, 验证损失: 0.3339\n",
      "\n"
     ]
    },
    {
     "name": "stderr",
     "output_type": "stream",
     "text": [
      "轮次 [12/50] 训练: 100%|██████████| 258/258 [00:00<00:00, 282.27it/s, 损失=0.2823]\n",
      "轮次 [12/50] 验证: 100%|██████████| 65/65 [00:00<00:00, 355.86it/s, 损失=0.2362]\n"
     ]
    },
    {
     "name": "stdout",
     "output_type": "stream",
     "text": [
      "\n",
      "轮次 12/50, 训练损失: 0.3130, 验证损失: 0.3269\n",
      "\n"
     ]
    },
    {
     "name": "stderr",
     "output_type": "stream",
     "text": [
      "轮次 [13/50] 训练: 100%|██████████| 258/258 [00:00<00:00, 279.67it/s, 损失=0.2315]\n",
      "轮次 [13/50] 验证: 100%|██████████| 65/65 [00:00<00:00, 373.42it/s, 损失=0.2169]\n"
     ]
    },
    {
     "name": "stdout",
     "output_type": "stream",
     "text": [
      "\n",
      "轮次 13/50, 训练损失: 0.3142, 验证损失: 0.3312\n",
      "\n"
     ]
    },
    {
     "name": "stderr",
     "output_type": "stream",
     "text": [
      "轮次 [14/50] 训练: 100%|██████████| 258/258 [00:00<00:00, 277.14it/s, 损失=0.3079]\n",
      "轮次 [14/50] 验证: 100%|██████████| 65/65 [00:00<00:00, 513.69it/s, 损失=0.2391]\n"
     ]
    },
    {
     "name": "stdout",
     "output_type": "stream",
     "text": [
      "\n",
      "轮次 14/50, 训练损失: 0.3058, 验证损失: 0.3273\n",
      "\n"
     ]
    },
    {
     "name": "stderr",
     "output_type": "stream",
     "text": [
      "轮次 [15/50] 训练: 100%|██████████| 258/258 [00:00<00:00, 280.00it/s, 损失=0.2023]\n",
      "轮次 [15/50] 验证: 100%|██████████| 65/65 [00:00<00:00, 504.35it/s, 损失=0.2213]\n"
     ]
    },
    {
     "name": "stdout",
     "output_type": "stream",
     "text": [
      "\n",
      "轮次 15/50, 训练损失: 0.3095, 验证损失: 0.3162\n",
      "\n"
     ]
    },
    {
     "name": "stderr",
     "output_type": "stream",
     "text": [
      "轮次 [16/50] 训练: 100%|██████████| 258/258 [00:00<00:00, 274.13it/s, 损失=0.3555]\n",
      "轮次 [16/50] 验证: 100%|██████████| 65/65 [00:00<00:00, 438.44it/s, 损失=0.2276]\n"
     ]
    },
    {
     "name": "stdout",
     "output_type": "stream",
     "text": [
      "\n",
      "轮次 16/50, 训练损失: 0.3110, 验证损失: 0.3188\n",
      "\n"
     ]
    },
    {
     "name": "stderr",
     "output_type": "stream",
     "text": [
      "轮次 [17/50] 训练: 100%|██████████| 258/258 [00:00<00:00, 289.82it/s, 损失=0.2459]\n",
      "轮次 [17/50] 验证: 100%|██████████| 65/65 [00:00<00:00, 421.51it/s, 损失=0.2477]\n"
     ]
    },
    {
     "name": "stdout",
     "output_type": "stream",
     "text": [
      "\n",
      "轮次 17/50, 训练损失: 0.3030, 验证损失: 0.3250\n",
      "\n"
     ]
    },
    {
     "name": "stderr",
     "output_type": "stream",
     "text": [
      "轮次 [18/50] 训练: 100%|██████████| 258/258 [00:00<00:00, 294.22it/s, 损失=0.2559]\n",
      "轮次 [18/50] 验证: 100%|██████████| 65/65 [00:00<00:00, 363.05it/s, 损失=0.2384]\n"
     ]
    },
    {
     "name": "stdout",
     "output_type": "stream",
     "text": [
      "\n",
      "轮次 18/50, 训练损失: 0.3003, 验证损失: 0.3149\n",
      "\n"
     ]
    },
    {
     "name": "stderr",
     "output_type": "stream",
     "text": [
      "轮次 [19/50] 训练: 100%|██████████| 258/258 [00:00<00:00, 305.90it/s, 损失=0.2807]\n",
      "轮次 [19/50] 验证: 100%|██████████| 65/65 [00:00<00:00, 407.39it/s, 损失=0.2569]\n"
     ]
    },
    {
     "name": "stdout",
     "output_type": "stream",
     "text": [
      "\n",
      "轮次 19/50, 训练损失: 0.2952, 验证损失: 0.3210\n",
      "\n"
     ]
    },
    {
     "name": "stderr",
     "output_type": "stream",
     "text": [
      "轮次 [20/50] 训练: 100%|██████████| 258/258 [00:00<00:00, 296.83it/s, 损失=0.2509]\n",
      "轮次 [20/50] 验证: 100%|██████████| 65/65 [00:00<00:00, 362.20it/s, 损失=0.2288]\n"
     ]
    },
    {
     "name": "stdout",
     "output_type": "stream",
     "text": [
      "\n",
      "轮次 20/50, 训练损失: 0.2951, 验证损失: 0.3244\n",
      "\n"
     ]
    },
    {
     "name": "stderr",
     "output_type": "stream",
     "text": [
      "轮次 [21/50] 训练: 100%|██████████| 258/258 [00:00<00:00, 280.25it/s, 损失=0.3965]\n",
      "轮次 [21/50] 验证: 100%|██████████| 65/65 [00:00<00:00, 515.10it/s, 损失=0.2142]\n"
     ]
    },
    {
     "name": "stdout",
     "output_type": "stream",
     "text": [
      "\n",
      "轮次 21/50, 训练损失: 0.2937, 验证损失: 0.3056\n",
      "\n"
     ]
    },
    {
     "name": "stderr",
     "output_type": "stream",
     "text": [
      "轮次 [22/50] 训练: 100%|██████████| 258/258 [00:00<00:00, 275.21it/s, 损失=0.2720]\n",
      "轮次 [22/50] 验证: 100%|██████████| 65/65 [00:00<00:00, 401.00it/s, 损失=0.2208]\n"
     ]
    },
    {
     "name": "stdout",
     "output_type": "stream",
     "text": [
      "\n",
      "轮次 22/50, 训练损失: 0.2911, 验证损失: 0.3078\n",
      "\n"
     ]
    },
    {
     "name": "stderr",
     "output_type": "stream",
     "text": [
      "轮次 [23/50] 训练: 100%|██████████| 258/258 [00:00<00:00, 275.67it/s, 损失=0.2991]\n",
      "轮次 [23/50] 验证: 100%|██████████| 65/65 [00:00<00:00, 386.50it/s, 损失=0.2155]\n"
     ]
    },
    {
     "name": "stdout",
     "output_type": "stream",
     "text": [
      "\n",
      "轮次 23/50, 训练损失: 0.2944, 验证损失: 0.3081\n",
      "\n"
     ]
    },
    {
     "name": "stderr",
     "output_type": "stream",
     "text": [
      "轮次 [24/50] 训练: 100%|██████████| 258/258 [00:00<00:00, 312.82it/s, 损失=0.3378]\n",
      "轮次 [24/50] 验证: 100%|██████████| 65/65 [00:00<00:00, 384.78it/s, 损失=0.2249]\n"
     ]
    },
    {
     "name": "stdout",
     "output_type": "stream",
     "text": [
      "\n",
      "轮次 24/50, 训练损失: 0.2996, 验证损失: 0.3078\n",
      "\n"
     ]
    },
    {
     "name": "stderr",
     "output_type": "stream",
     "text": [
      "轮次 [25/50] 训练: 100%|██████████| 258/258 [00:00<00:00, 274.02it/s, 损失=0.2346]\n",
      "轮次 [25/50] 验证: 100%|██████████| 65/65 [00:00<00:00, 442.92it/s, 损失=0.2238]\n"
     ]
    },
    {
     "name": "stdout",
     "output_type": "stream",
     "text": [
      "\n",
      "轮次 25/50, 训练损失: 0.2909, 验证损失: 0.3074\n",
      "\n"
     ]
    },
    {
     "name": "stderr",
     "output_type": "stream",
     "text": [
      "轮次 [26/50] 训练: 100%|██████████| 258/258 [00:00<00:00, 273.34it/s, 损失=0.2221]\n",
      "轮次 [26/50] 验证: 100%|██████████| 65/65 [00:00<00:00, 452.46it/s, 损失=0.2134]\n"
     ]
    },
    {
     "name": "stdout",
     "output_type": "stream",
     "text": [
      "\n",
      "轮次 26/50, 训练损失: 0.2861, 验证损失: 0.3023\n",
      "\n"
     ]
    },
    {
     "name": "stderr",
     "output_type": "stream",
     "text": [
      "轮次 [27/50] 训练: 100%|██████████| 258/258 [00:01<00:00, 248.48it/s, 损失=0.2429]\n",
      "轮次 [27/50] 验证: 100%|██████████| 65/65 [00:00<00:00, 355.71it/s, 损失=0.1714]\n"
     ]
    },
    {
     "name": "stdout",
     "output_type": "stream",
     "text": [
      "\n",
      "轮次 27/50, 训练损失: 0.2845, 验证损失: 0.3067\n",
      "\n"
     ]
    },
    {
     "name": "stderr",
     "output_type": "stream",
     "text": [
      "轮次 [28/50] 训练: 100%|██████████| 258/258 [00:00<00:00, 277.28it/s, 损失=0.2451]\n",
      "轮次 [28/50] 验证: 100%|██████████| 65/65 [00:00<00:00, 367.12it/s, 损失=0.2253]\n"
     ]
    },
    {
     "name": "stdout",
     "output_type": "stream",
     "text": [
      "\n",
      "轮次 28/50, 训练损失: 0.2838, 验证损失: 0.2991\n",
      "\n"
     ]
    },
    {
     "name": "stderr",
     "output_type": "stream",
     "text": [
      "轮次 [29/50] 训练: 100%|██████████| 258/258 [00:00<00:00, 291.80it/s, 损失=0.3224]\n",
      "轮次 [29/50] 验证: 100%|██████████| 65/65 [00:00<00:00, 449.64it/s, 损失=0.2096]\n"
     ]
    },
    {
     "name": "stdout",
     "output_type": "stream",
     "text": [
      "\n",
      "轮次 29/50, 训练损失: 0.2830, 验证损失: 0.3006\n",
      "\n"
     ]
    },
    {
     "name": "stderr",
     "output_type": "stream",
     "text": [
      "轮次 [30/50] 训练: 100%|██████████| 258/258 [00:00<00:00, 279.55it/s, 损失=0.5071]\n",
      "轮次 [30/50] 验证: 100%|██████████| 65/65 [00:00<00:00, 449.56it/s, 损失=0.1999]\n"
     ]
    },
    {
     "name": "stdout",
     "output_type": "stream",
     "text": [
      "\n",
      "轮次 30/50, 训练损失: 0.2824, 验证损失: 0.3023\n",
      "\n"
     ]
    },
    {
     "name": "stderr",
     "output_type": "stream",
     "text": [
      "轮次 [31/50] 训练: 100%|██████████| 258/258 [00:01<00:00, 229.06it/s, 损失=0.4296]\n",
      "轮次 [31/50] 验证: 100%|██████████| 65/65 [00:00<00:00, 336.81it/s, 损失=0.2002]\n"
     ]
    },
    {
     "name": "stdout",
     "output_type": "stream",
     "text": [
      "\n",
      "轮次 31/50, 训练损失: 0.2801, 验证损失: 0.3028\n",
      "\n"
     ]
    },
    {
     "name": "stderr",
     "output_type": "stream",
     "text": [
      "轮次 [32/50] 训练: 100%|██████████| 258/258 [00:01<00:00, 248.30it/s, 损失=0.4327]\n",
      "轮次 [32/50] 验证: 100%|██████████| 65/65 [00:00<00:00, 394.91it/s, 损失=0.1987]\n"
     ]
    },
    {
     "name": "stdout",
     "output_type": "stream",
     "text": [
      "\n",
      "轮次 32/50, 训练损失: 0.2796, 验证损失: 0.3035\n",
      "\n"
     ]
    },
    {
     "name": "stderr",
     "output_type": "stream",
     "text": [
      "轮次 [33/50] 训练: 100%|██████████| 258/258 [00:01<00:00, 235.26it/s, 损失=0.2811]\n",
      "轮次 [33/50] 验证: 100%|██████████| 65/65 [00:00<00:00, 478.44it/s, 损失=0.2044]\n"
     ]
    },
    {
     "name": "stdout",
     "output_type": "stream",
     "text": [
      "\n",
      "轮次 33/50, 训练损失: 0.2820, 验证损失: 0.2960\n",
      "\n"
     ]
    },
    {
     "name": "stderr",
     "output_type": "stream",
     "text": [
      "轮次 [34/50] 训练: 100%|██████████| 258/258 [00:01<00:00, 257.07it/s, 损失=0.3009]\n",
      "轮次 [34/50] 验证: 100%|██████████| 65/65 [00:00<00:00, 325.72it/s, 损失=0.2146]\n"
     ]
    },
    {
     "name": "stdout",
     "output_type": "stream",
     "text": [
      "\n",
      "轮次 34/50, 训练损失: 0.2751, 验证损失: 0.2996\n",
      "\n"
     ]
    },
    {
     "name": "stderr",
     "output_type": "stream",
     "text": [
      "轮次 [35/50] 训练: 100%|██████████| 258/258 [00:00<00:00, 285.67it/s, 损失=0.2028]\n",
      "轮次 [35/50] 验证: 100%|██████████| 65/65 [00:00<00:00, 382.43it/s, 损失=0.2207]\n"
     ]
    },
    {
     "name": "stdout",
     "output_type": "stream",
     "text": [
      "\n",
      "轮次 35/50, 训练损失: 0.2753, 验证损失: 0.2991\n",
      "\n"
     ]
    },
    {
     "name": "stderr",
     "output_type": "stream",
     "text": [
      "轮次 [36/50] 训练: 100%|██████████| 258/258 [00:00<00:00, 304.89it/s, 损失=0.3060]\n",
      "轮次 [36/50] 验证: 100%|██████████| 65/65 [00:00<00:00, 375.91it/s, 损失=0.1690]\n"
     ]
    },
    {
     "name": "stdout",
     "output_type": "stream",
     "text": [
      "\n",
      "轮次 36/50, 训练损失: 0.2738, 验证损失: 0.2939\n",
      "\n"
     ]
    },
    {
     "name": "stderr",
     "output_type": "stream",
     "text": [
      "轮次 [37/50] 训练: 100%|██████████| 258/258 [00:00<00:00, 282.46it/s, 损失=0.2288]\n",
      "轮次 [37/50] 验证: 100%|██████████| 65/65 [00:00<00:00, 408.55it/s, 损失=0.1918]\n"
     ]
    },
    {
     "name": "stdout",
     "output_type": "stream",
     "text": [
      "\n",
      "轮次 37/50, 训练损失: 0.2729, 验证损失: 0.2923\n",
      "\n"
     ]
    },
    {
     "name": "stderr",
     "output_type": "stream",
     "text": [
      "轮次 [38/50] 训练: 100%|██████████| 258/258 [00:00<00:00, 259.41it/s, 损失=0.2989]\n",
      "轮次 [38/50] 验证: 100%|██████████| 65/65 [00:00<00:00, 516.18it/s, 损失=0.1615]\n"
     ]
    },
    {
     "name": "stdout",
     "output_type": "stream",
     "text": [
      "\n",
      "轮次 38/50, 训练损失: 0.2720, 验证损失: 0.2973\n",
      "\n"
     ]
    },
    {
     "name": "stderr",
     "output_type": "stream",
     "text": [
      "轮次 [39/50] 训练: 100%|██████████| 258/258 [00:00<00:00, 279.86it/s, 损失=0.1956]\n",
      "轮次 [39/50] 验证: 100%|██████████| 65/65 [00:00<00:00, 366.44it/s, 损失=0.1815]\n"
     ]
    },
    {
     "name": "stdout",
     "output_type": "stream",
     "text": [
      "\n",
      "轮次 39/50, 训练损失: 0.2702, 验证损失: 0.2896\n",
      "\n"
     ]
    },
    {
     "name": "stderr",
     "output_type": "stream",
     "text": [
      "轮次 [40/50] 训练: 100%|██████████| 258/258 [00:00<00:00, 300.20it/s, 损失=0.2100]\n",
      "轮次 [40/50] 验证: 100%|██████████| 65/65 [00:00<00:00, 411.52it/s, 损失=0.2068]\n"
     ]
    },
    {
     "name": "stdout",
     "output_type": "stream",
     "text": [
      "\n",
      "轮次 40/50, 训练损失: 0.2695, 验证损失: 0.2945\n",
      "\n"
     ]
    },
    {
     "name": "stderr",
     "output_type": "stream",
     "text": [
      "轮次 [41/50] 训练: 100%|██████████| 258/258 [00:00<00:00, 276.98it/s, 损失=0.4122]\n",
      "轮次 [41/50] 验证: 100%|██████████| 65/65 [00:00<00:00, 502.58it/s, 损失=0.1804]\n"
     ]
    },
    {
     "name": "stdout",
     "output_type": "stream",
     "text": [
      "\n",
      "轮次 41/50, 训练损失: 0.2693, 验证损失: 0.2948\n",
      "\n"
     ]
    },
    {
     "name": "stderr",
     "output_type": "stream",
     "text": [
      "轮次 [42/50] 训练: 100%|██████████| 258/258 [00:00<00:00, 275.04it/s, 损失=0.2387]\n",
      "轮次 [42/50] 验证: 100%|██████████| 65/65 [00:00<00:00, 480.31it/s, 损失=0.1900]\n"
     ]
    },
    {
     "name": "stdout",
     "output_type": "stream",
     "text": [
      "\n",
      "轮次 42/50, 训练损失: 0.2697, 验证损失: 0.2971\n",
      "\n"
     ]
    },
    {
     "name": "stderr",
     "output_type": "stream",
     "text": [
      "轮次 [43/50] 训练: 100%|██████████| 258/258 [00:00<00:00, 279.85it/s, 损失=0.2679]\n",
      "轮次 [43/50] 验证: 100%|██████████| 65/65 [00:00<00:00, 417.83it/s, 损失=0.2256]\n"
     ]
    },
    {
     "name": "stdout",
     "output_type": "stream",
     "text": [
      "\n",
      "轮次 43/50, 训练损失: 0.2744, 验证损失: 0.2929\n",
      "\n"
     ]
    },
    {
     "name": "stderr",
     "output_type": "stream",
     "text": [
      "轮次 [44/50] 训练: 100%|██████████| 258/258 [00:00<00:00, 319.60it/s, 损失=0.4004]\n",
      "轮次 [44/50] 验证: 100%|██████████| 65/65 [00:00<00:00, 413.21it/s, 损失=0.1853]\n"
     ]
    },
    {
     "name": "stdout",
     "output_type": "stream",
     "text": [
      "\n",
      "轮次 44/50, 训练损失: 0.2666, 验证损失: 0.2884\n",
      "\n"
     ]
    },
    {
     "name": "stderr",
     "output_type": "stream",
     "text": [
      "轮次 [45/50] 训练: 100%|██████████| 258/258 [00:00<00:00, 333.45it/s, 损失=0.2878]\n",
      "轮次 [45/50] 验证: 100%|██████████| 65/65 [00:00<00:00, 387.29it/s, 损失=0.2193]\n"
     ]
    },
    {
     "name": "stdout",
     "output_type": "stream",
     "text": [
      "\n",
      "轮次 45/50, 训练损失: 0.2700, 验证损失: 0.3134\n",
      "\n"
     ]
    },
    {
     "name": "stderr",
     "output_type": "stream",
     "text": [
      "轮次 [46/50] 训练: 100%|██████████| 258/258 [00:00<00:00, 323.25it/s, 损失=0.3050]\n",
      "轮次 [46/50] 验证: 100%|██████████| 65/65 [00:00<00:00, 521.78it/s, 损失=0.1704]\n"
     ]
    },
    {
     "name": "stdout",
     "output_type": "stream",
     "text": [
      "\n",
      "轮次 46/50, 训练损失: 0.2662, 验证损失: 0.3171\n",
      "\n"
     ]
    },
    {
     "name": "stderr",
     "output_type": "stream",
     "text": [
      "轮次 [47/50] 训练: 100%|██████████| 258/258 [00:00<00:00, 286.28it/s, 损失=0.3361]\n",
      "轮次 [47/50] 验证: 100%|██████████| 65/65 [00:00<00:00, 495.84it/s, 损失=0.2248]\n"
     ]
    },
    {
     "name": "stdout",
     "output_type": "stream",
     "text": [
      "\n",
      "轮次 47/50, 训练损失: 0.2663, 验证损失: 0.2884\n",
      "\n"
     ]
    },
    {
     "name": "stderr",
     "output_type": "stream",
     "text": [
      "轮次 [48/50] 训练: 100%|██████████| 258/258 [00:00<00:00, 307.76it/s, 损失=0.2052]\n",
      "轮次 [48/50] 验证: 100%|██████████| 65/65 [00:00<00:00, 452.40it/s, 损失=0.2094]\n"
     ]
    },
    {
     "name": "stdout",
     "output_type": "stream",
     "text": [
      "\n",
      "轮次 48/50, 训练损失: 0.2641, 验证损失: 0.2857\n",
      "\n"
     ]
    },
    {
     "name": "stderr",
     "output_type": "stream",
     "text": [
      "轮次 [49/50] 训练: 100%|██████████| 258/258 [00:00<00:00, 311.64it/s, 损失=0.2401]\n",
      "轮次 [49/50] 验证: 100%|██████████| 65/65 [00:00<00:00, 427.23it/s, 损失=0.1970]\n"
     ]
    },
    {
     "name": "stdout",
     "output_type": "stream",
     "text": [
      "\n",
      "轮次 49/50, 训练损失: 0.2644, 验证损失: 0.2893\n",
      "\n"
     ]
    },
    {
     "name": "stderr",
     "output_type": "stream",
     "text": [
      "轮次 [50/50] 训练: 100%|██████████| 258/258 [00:00<00:00, 312.63it/s, 损失=0.2729]\n",
      "轮次 [50/50] 验证: 100%|██████████| 65/65 [00:00<00:00, 411.71it/s, 损失=0.2378]\n"
     ]
    },
    {
     "name": "stdout",
     "output_type": "stream",
     "text": [
      "\n",
      "轮次 50/50, 训练损失: 0.2622, 验证损失: 0.3210\n",
      "\n"
     ]
    },
    {
     "data": {
      "image/png": "[encoded data removed]",
      "text/plain": [
       "<Figure size 1000x500 with 1 Axes>"
      ]
     },
     "metadata": {},
     "output_type": "display_data"
    },
    {
     "name": "stdout",
     "output_type": "stream",
     "text": [
      "测试集均方误差 (MSE): 0.3210\n",
      "测试集均方根误差 (RMSE): 0.5666\n"
     ]
    },
    {
     "data": {
      "image/png": "[encoded data removed]",
      "text/plain": [
       "<Figure size 1000x600 with 1 Axes>"
      ]
     },
     "metadata": {},
     "output_type": "display_data"
    },
    {
     "name": "stdout",
     "output_type": "stream",
     "text": [
      "模型已保存为 'california_housing_model.pth'\n"
     ]
    }
   ],
   "source": [
    "# 加载加利福尼亚房价数据集并实现回归模型\n",
    "\n",
    "import numpy as np\n",
    "import pandas as pd\n",
    "import matplotlib.pyplot as plt\n",
    "import torch\n",
    "import torch.nn as nn\n",
    "import torch.optim as optim\n",
    "from torch.utils.data import Dataset, DataLoader\n",
    "from sklearn.datasets import fetch_california_housing\n",
    "from sklearn.model_selection import train_test_split\n",
    "from sklearn.preprocessing import StandardScaler\n",
    "from tqdm import tqdm\n",
    "\n",
    "# 1. 数据加载和预处理\n",
    "def load_california_housing_data(test_size=0.2, random_state=42):\n",
    "    \"\"\"\n",
    "    加载加利福尼亚房价数据集并进行预处理\n",
    "    \n",
    "    参数:\n",
    "        test_size: 测试集比例\n",
    "        random_state: 随机种子\n",
    "    \n",
    "    返回:\n",
    "        训练集和测试集的数据加载器\n",
    "    \"\"\"\n",
    "    # 加载数据集\n",
    "    housing = fetch_california_housing()\n",
    "    X, y = housing.data, housing.target\n",
    "    \n",
    "    # 划分训练集和测试集\n",
    "    X_train, X_test, y_train, y_test = train_test_split(\n",
    "        X, y, test_size=test_size, random_state=random_state\n",
    "    )\n",
    "    \n",
    "    # 标准化特征\n",
    "    scaler = StandardScaler()\n",
    "    X_train = scaler.fit_transform(X_train)\n",
    "    X_test = scaler.transform(X_test)\n",
    "    \n",
    "    # 转换为PyTorch张量\n",
    "    X_train = torch.FloatTensor(X_train)\n",
    "    y_train = torch.FloatTensor(y_train).reshape(-1, 1)\n",
    "    X_test = torch.FloatTensor(X_test)\n",
    "    y_test = torch.FloatTensor(y_test).reshape(-1, 1)\n",
    "    \n",
    "    # 创建数据集和数据加载器\n",
    "    class HousingDataset(Dataset):\n",
    "        def __init__(self, X, y):\n",
    "            self.X = X\n",
    "            self.y = y\n",
    "            \n",
    "        def __len__(self):\n",
    "            return len(self.X)\n",
    "        \n",
    "        def __getitem__(self, idx):\n",
    "            return self.X[idx], self.y[idx]\n",
    "    \n",
    "    train_dataset = HousingDataset(X_train, y_train)\n",
    "    test_dataset = HousingDataset(X_test, y_test)\n",
    "    \n",
    "    train_loader = DataLoader(train_dataset, batch_size=64, shuffle=True)\n",
    "    test_loader = DataLoader(test_dataset, batch_size=64, shuffle=False)\n",
    "    \n",
    "    return train_loader, test_loader, housing.feature_names\n",
    "\n",
    "# 2. 模型定义\n",
    "class HousingRegressionModel(nn.Module):\n",
    "    def __init__(self, input_size):\n",
    "        super(HousingRegressionModel, self).__init__()\n",
    "        self.model = nn.Sequential(\n",
    "            nn.Linear(input_size, 64),\n",
    "            nn.ReLU(),\n",
    "            nn.Linear(64, 32),\n",
    "            nn.ReLU(),\n",
    "            nn.Linear(32, 1)\n",
    "        )\n",
    "    \n",
    "    def forward(self, x):\n",
    "        return self.model(x)\n",
    "\n",
    "# 3. 训练模型\n",
    "def train_regression_model(model, train_loader, test_loader, criterion, optimizer, device, num_epochs=100):\n",
    "    \"\"\"\n",
    "    训练回归模型\n",
    "    \n",
    "    参数:\n",
    "        model: 模型\n",
    "        train_loader: 训练数据加载器\n",
    "        test_loader: 测试数据加载器\n",
    "        criterion: 损失函数\n",
    "        optimizer: 优化器\n",
    "        device: 设备(CPU/GPU)\n",
    "        num_epochs: 训练轮次\n",
    "    \n",
    "    返回:\n",
    "        训练好的模型和训练历史\n",
    "    \"\"\"\n",
    "    model.to(device)\n",
    "    history = {\n",
    "        'train_loss': [],\n",
    "        'val_loss': []\n",
    "    }\n",
    "    \n",
    "    for epoch in range(num_epochs):\n",
    "        # 训练阶段\n",
    "        model.train()\n",
    "        train_loss = 0.0\n",
    "        train_pbar = tqdm(train_loader, desc=f'轮次 [{epoch+1}/{num_epochs}] 训练')\n",
    "        \n",
    "        for inputs, targets in train_pbar:\n",
    "            inputs, targets = inputs.to(device), targets.to(device)\n",
    "            \n",
    "            # 前向传播\n",
    "            outputs = model(inputs)\n",
    "            loss = criterion(outputs, targets)\n",
    "            \n",
    "            # 反向传播和优化\n",
    "            optimizer.zero_grad()\n",
    "            loss.backward()\n",
    "            optimizer.step()\n",
    "            \n",
    "            train_loss += loss.item()\n",
    "            train_pbar.set_postfix(损失=f\"{loss.item():.4f}\")\n",
    "        \n",
    "        avg_train_loss = train_loss / len(train_loader)\n",
    "        history['train_loss'].append(avg_train_loss)\n",
    "        \n",
    "        # 验证阶段\n",
    "        model.eval()\n",
    "        val_loss = 0.0\n",
    "        val_pbar = tqdm(test_loader, desc=f'轮次 [{epoch+1}/{num_epochs}] 验证')\n",
    "        \n",
    "        with torch.no_grad():\n",
    "            for inputs, targets in val_pbar:\n",
    "                inputs, targets = inputs.to(device), targets.to(device)\n",
    "                outputs = model(inputs)\n",
    "                loss = criterion(outputs, targets)\n",
    "                val_loss += loss.item()\n",
    "                val_pbar.set_postfix(损失=f\"{loss.item():.4f}\")\n",
    "        \n",
    "        avg_val_loss = val_loss / len(test_loader)\n",
    "        history['val_loss'].append(avg_val_loss)\n",
    "        \n",
    "        print(f\"\\n轮次 {epoch+1}/{num_epochs}, 训练损失: {avg_train_loss:.4f}, 验证损失: {avg_val_loss:.4f}\\n\")\n",
    "    \n",
    "    # 绘制训练历史\n",
    "    plt.figure(figsize=(10, 5))\n",
    "    plt.plot(history['train_loss'], label='训练损失')\n",
    "    plt.plot(history['val_loss'], label='验证损失')\n",
    "    plt.xlabel('轮次')\n",
    "    plt.ylabel('损失 (MSE)')\n",
    "    plt.title('训练和验证损失变化')\n",
    "    plt.legend()\n",
    "    plt.tight_layout()\n",
    "    plt.show()\n",
    "    \n",
    "    return model, history\n",
    "\n",
    "# 4. 评估模型\n",
    "def evaluate_regression_model(model, test_loader, device):\n",
    "    \"\"\"\n",
    "    评估回归模型\n",
    "    \n",
    "    参数:\n",
    "        model: 模型\n",
    "        test_loader: 测试数据加载器\n",
    "        device: 设备(CPU/GPU)\n",
    "    \n",
    "    返回:\n",
    "        均方误差(MSE)和均方根误差(RMSE)\n",
    "    \"\"\"\n",
    "    model.eval()\n",
    "    criterion = nn.MSELoss()\n",
    "    total_loss = 0.0\n",
    "    all_preds = []\n",
    "    all_targets = []\n",
    "    \n",
    "    with torch.no_grad():\n",
    "        for inputs, targets in test_loader:\n",
    "            inputs, targets = inputs.to(device), targets.to(device)\n",
    "            outputs = model(inputs)\n",
    "            loss = criterion(outputs, targets)\n",
    "            total_loss += loss.item()\n",
    "            \n",
    "            all_preds.extend(outputs.cpu().numpy())\n",
    "            all_targets.extend(targets.cpu().numpy())\n",
    "    \n",
    "    mse = total_loss / len(test_loader)\n",
    "    rmse = np.sqrt(mse)\n",
    "    \n",
    "    print(f\"测试集均方误差 (MSE): {mse:.4f}\")\n",
    "    print(f\"测试集均方根误差 (RMSE): {rmse:.4f}\")\n",
    "    \n",
    "    # 绘制预测值与真实值的散点图\n",
    "    plt.figure(figsize=(10, 6))\n",
    "    plt.scatter(all_targets, all_preds, alpha=0.5)\n",
    "    plt.plot([min(all_targets), max(all_targets)], [min(all_targets), max(all_targets)], 'r--')\n",
    "    plt.xlabel('真实值')\n",
    "    plt.ylabel('预测值')\n",
    "    plt.title('预测值 vs 真实值')\n",
    "    plt.tight_layout()\n",
    "    plt.show()\n",
    "    \n",
    "    return mse, rmse\n",
    "\n",
    "# 5. 主函数：执行完整的训练和评估流程\n",
    "def main():\n",
    "    # 设置设备\n",
    "    device = torch.device('cuda' if torch.cuda.is_available() else 'cpu')\n",
    "    print(f\"使用设备: {device}\")\n",
    "    \n",
    "    # 加载数据\n",
    "    train_loader, test_loader, feature_names = load_california_housing_data()\n",
    "    print(f\"特征数量: {len(feature_names)}\")\n",
    "    print(f\"特征名称: {feature_names}\")\n",
    "    \n",
    "    # 创建模型\n",
    "    input_size = len(feature_names)\n",
    "    model = HousingRegressionModel(input_size)\n",
    "    \n",
    "    # 定义损失函数和优化器\n",
    "    criterion = nn.MSELoss()#均方误差\n",
    "    optimizer = optim.Adam(model.parameters(), lr=0.001)#Adam优化器\n",
    "    \n",
    "    # 训练模型\n",
    "    model, history = train_regression_model(\n",
    "        model, train_loader, test_loader, criterion, optimizer, device, num_epochs=50\n",
    "    )\n",
    "    \n",
    "    # 评估模型\n",
    "    mse, rmse = evaluate_regression_model(model, test_loader, device)\n",
    "    \n",
    "    # 保存模型\n",
    "    torch.save(model.state_dict(), 'california_housing_model.pth')\n",
    "    print(\"模型已保存为 'california_housing_model.pth'\")\n",
    "\n",
    "# 执行主函数\n",
    "if __name__ == \"__main__\":\n",
    "    main()\n",
    "else:\n",
    "    # 在Jupyter Notebook中直接执行\n",
    "    main()\n"
   ]
  }
 ],
 "metadata": {
  "kernelspec": {
   "display_name": "Python 3",
   "language": "python",
   "name": "python3"
  },
  "language_info": {
   "codemirror_mode": {
    "name": "ipython",
    "version": 3
   },
   "file_extension": ".py",
   "mimetype": "text/x-python",
   "name": "python",
   "nbconvert_exporter": "python",
   "pygments_lexer": "ipython3",
   "version": "3.12.3"
  }
 },
 "nbformat": 4,
 "nbformat_minor": 5
}
